{
  "nbformat": 4,
  "nbformat_minor": 0,
  "metadata": {
    "colab": {
      "name": "Copy of CS 5010 Final Project",
      "provenance": [],
      "collapsed_sections": []
    },
    "kernelspec": {
      "name": "python3",
      "display_name": "Python 3"
    },
    "language_info": {
      "name": "python"
    }
  },
  "cells": [
    {
      "cell_type": "markdown",
      "metadata": {
        "id": "HVUcLZEEAJS9"
      },
      "source": [
        "CS5010 FINAL PROJECT\n",
        "\n",
        "Group 8 | Allison Hansen (Aph7hy), Amanda Maruca (qfu2fy), Colin Warner (ynq9ya)\n",
        "\n",
        "TOPIC | Refugee Resettlement/Asylum Seeking Data"
      ]
    },
    {
      "cell_type": "markdown",
      "metadata": {
        "id": "_dF7K61_n8NK"
      },
      "source": [
        "## NOTES: \n",
        "\n",
        "User can select a country from either top 10 bar charts provided \n",
        "\n",
        "maybe our goal is like learn about world refugees based on top 10 countries of origin and asylum in the world and then we show the bar charts \n",
        "\n",
        "User will be provided with the following stats based on selection \n",
        ": these might need to be different depending on if the user selects a top 10 country of origin vs asylum \n",
        "\n",
        "- percent of refugees/applications country is responsible for \n",
        "- how many different countries people seek asylum to \n",
        "- top 5 aslyum countries from origin or top 5 origin to asylum \n",
        "- demographic data (amanda)\n",
        "- some time series trend line --> percentage of accepted over time (allison)\n",
        "- map (colin)"
      ]
    },
    {
      "cell_type": "code",
      "metadata": {
        "id": "dBptLpnx2MPE"
      },
      "source": [
        "# imports\n",
        "\n",
        "import pandas as pd\n",
        "import seaborn as sns\n",
        "import matplotlib\n",
        "import matplotlib.pyplot as plt\n",
        "import geopandas \n",
        "from bokeh.io import output_notebook, show, output_file\n",
        "from bokeh.plotting import figure\n",
        "from bokeh.models import GeoJSONDataSource, LinearColorMapper, ColorBar\n",
        "from bokeh.palettes import brewer\n",
        "import json"
      ],
      "execution_count": null,
      "outputs": []
    },
    {
      "cell_type": "code",
      "metadata": {
        "colab": {
          "base_uri": "https://localhost:8080/"
        },
        "id": "XPJ_LuD52PXG",
        "outputId": "d3ae48b9-b3d3-4720-a55e-5760de1d7f83"
      },
      "source": [
        "# mount google drive\n",
        "\n",
        "from google.colab import drive\n",
        "drive.mount('/content/drive')"
      ],
      "execution_count": null,
      "outputs": [
        {
          "output_type": "stream",
          "text": [
            "Mounted at /content/drive\n"
          ],
          "name": "stdout"
        }
      ]
    },
    {
      "cell_type": "markdown",
      "metadata": {
        "id": "KqgZGjHHAY3h"
      },
      "source": [
        "## Read in Data Files \n",
        "\n",
        "I added each file to my drive, not under any specific folder and then run this code to read in the files "
      ]
    },
    {
      "cell_type": "code",
      "metadata": {
        "id": "TBYYFXZY2r2W"
      },
      "source": [
        "file = '/content/drive/MyDrive/asylum-decisions.csv'\n",
        "data = pd.read_csv(file)\n",
        "\n",
        "df_decisions = pd.DataFrame(data)"
      ],
      "execution_count": null,
      "outputs": []
    },
    {
      "cell_type": "code",
      "metadata": {
        "id": "cZihWNgn3wum"
      },
      "source": [
        "file = '/content/drive/MyDrive/asylum-applications.csv'\n",
        "data = pd.read_csv(file)\n",
        "\n",
        "df_applications = pd.DataFrame(data)"
      ],
      "execution_count": null,
      "outputs": []
    },
    {
      "cell_type": "code",
      "metadata": {
        "id": "XaVlMVrxAkTW"
      },
      "source": [
        "file = '/content/drive/MyDrive/demographics.csv'\n",
        "data = pd.read_csv(file)\n",
        "\n",
        "df_demographics = pd.DataFrame(data)"
      ],
      "execution_count": null,
      "outputs": []
    },
    {
      "cell_type": "code",
      "metadata": {
        "id": "yF8uKBI_zHEV",
        "colab": {
          "base_uri": "https://localhost:8080/"
        },
        "outputId": "7a1a17e9-6a15-4e9b-903f-e3e7561cc14b"
      },
      "source": [
        "### ASYLUM DECISIONS DATA SET FROM UNHCR ###\n",
        "\n",
        "#fill blank country of origin codes with unk to represent unknown\n",
        "df_decisions = df_decisions.fillna(\"UNK\")\n",
        "\n",
        "#create unique id field concatenating year, and both country ISO's. To be used for joins later.\n",
        "df_decisions['id'] = df_decisions['Year'].map(str) + \"-\" + df_decisions['Country of origin (ISO)'].map(str) + \"-\" + df_decisions['Country of asylum (ISO)'].map(str)\n",
        "\n",
        "#group by id, year, country of origin, and country of asylum (plus their ISO's) in order to get sums of decision columns per unique country combination of origin-asylum \n",
        "df_decisions = df_decisions.groupby(['id','Year','Country of origin','Country of origin (ISO)', 'Country of asylum', 'Country of asylum (ISO)'])['Recognized decisions','Complementary protection', 'Rejected decisions', 'Otherwise closed', 'Total decisions'].sum()\n",
        "\n",
        "#print this result to a csv file to be read back in later.\n",
        "#note: this is the only way i found to 'trick' pandas into allowing me to join by the group by columns later. i use this trick throughout the file. \n",
        "df_decisions.to_csv(r'df_decisions.csv')\n",
        "\n",
        "print(\"total rows in df_decisions:\")\n",
        "print(df_decisions.shape[0])"
      ],
      "execution_count": null,
      "outputs": [
        {
          "output_type": "stream",
          "text": [
            "/usr/local/lib/python3.7/dist-packages/ipykernel_launcher.py:10: FutureWarning: Indexing with multiple keys (implicitly converted to a tuple of keys) will be deprecated, use a list instead.\n",
            "  # Remove the CWD from sys.path while we load stuff.\n"
          ],
          "name": "stderr"
        },
        {
          "output_type": "stream",
          "text": [
            "total rows in df_decisions:\n",
            "59306\n"
          ],
          "name": "stdout"
        }
      ]
    },
    {
      "cell_type": "code",
      "metadata": {
        "colab": {
          "base_uri": "https://localhost:8080/"
        },
        "id": "KGj1VX-T5Zsq",
        "outputId": "ccd4ad2b-0b3f-4f21-fa06-65af3321e92f"
      },
      "source": [
        "### ASYLUM APPLICATIONS DATA SET FROM UNHCR ###\n",
        "\n",
        "#fill blank country of origin codes with unk to represent unknown\n",
        "df_applications = df_applications.fillna(\"UNK\")\n",
        "\n",
        "# create unique id field concatenating year, and both country ISO's. To be used for joins later.\n",
        "df_applications['id'] = df_applications['Year'].map(str) + \"-\" + df_applications['Country of origin (ISO)'].map(str) + \"-\" + df_applications['Country of asylum (ISO)'].map(str)\n",
        "\n",
        "# group by id, year, country of origin, and country of asylum (plus their ISO's) in order to get sums of applications per unique country combination of origin-asylum \n",
        "df_applications = df_applications.groupby(['id','Year','Country of origin','Country of origin (ISO)', 'Country of asylum', 'Country of asylum (ISO)'])['applied'].sum()\n",
        "\n",
        "# print this result to a csv file to be read back in later.\n",
        "df_applications.to_csv(r'df_applications.csv')\n",
        "print(\"total rows in df_applications:\")\n",
        "print(df_applications.shape[0])"
      ],
      "execution_count": null,
      "outputs": [
        {
          "output_type": "stream",
          "text": [
            "total rows in df_applications:\n",
            "66113\n"
          ],
          "name": "stdout"
        }
      ]
    },
    {
      "cell_type": "code",
      "metadata": {
        "id": "WU6l-qlZ8zM6"
      },
      "source": [
        "# read back in the df_decisions csv from before in order to join with df_applications on id\n",
        "df_decisions = pd.read_csv(\"df_decisions.csv\")\n",
        "\n",
        "# read back in the df_applications csv from before in order to join with df_decisions on id\n",
        "df_applications = pd.read_csv(\"df_applications.csv\")"
      ],
      "execution_count": null,
      "outputs": []
    },
    {
      "cell_type": "code",
      "metadata": {
        "id": "r7X_7syJBoi_"
      },
      "source": [
        "# Inner join the decisions and applications files on previously created id field. \n",
        "# add suffix to commonly named fields in order to distinguish which file they are coming from. \n",
        "df_dec_app = df_applications.set_index('id').join(df_decisions.set_index('id'), lsuffix='_applications', rsuffix='_decisions', how='inner')"
      ],
      "execution_count": null,
      "outputs": []
    },
    {
      "cell_type": "code",
      "metadata": {
        "id": "Nm0gQGSTBsF3"
      },
      "source": [
        "# print this result to a csv file to be read back in later.\n",
        "df_dec_app.to_csv(r'df_dec_app.csv')"
      ],
      "execution_count": null,
      "outputs": []
    },
    {
      "cell_type": "code",
      "metadata": {
        "colab": {
          "base_uri": "https://localhost:8080/"
        },
        "id": "5UgOqQvZB1kF",
        "outputId": "c6131ff2-aeb2-4280-e80f-e6ea6e719e0d"
      },
      "source": [
        "# read back in the df_dec_app csv from before in order to join with new df_demographics on id\n",
        "df_dec_app = pd.read_csv(\"df_dec_app.csv\")\n",
        "print(\"total rows in df_dec_app:\")\n",
        "print(df_dec_app.shape[0])"
      ],
      "execution_count": null,
      "outputs": [
        {
          "output_type": "stream",
          "text": [
            "total rows in df_dec_app:\n",
            "53288\n"
          ],
          "name": "stdout"
        }
      ]
    },
    {
      "cell_type": "code",
      "metadata": {
        "colab": {
          "base_uri": "https://localhost:8080/"
        },
        "id": "o5-ONU3QCZ9t",
        "outputId": "da6d1531-5302-43bd-dab1-5062230c72ef"
      },
      "source": [
        "### DEMOGRAPHIC DATA SET FROM UNHCR ###\n",
        "\n",
        "#fill blank country of origin codes with unk to represent unknown\n",
        "df_demographics = df_demographics.fillna(\"UNK\")\n",
        "# create unique id field concatenating year, and both country ISO's. To be used for joins later.\n",
        "df_demographics['id'] = df_demographics['Year'].map(str) + \"-\" + df_demographics['Country of origin (ISO)'].map(str) + \"-\" + df_demographics['Country of asylum (ISO)'].map(str)\n",
        "print(\"total rows in df_demographics:\")\n",
        "print(df_demographics.shape[0])"
      ],
      "execution_count": null,
      "outputs": [
        {
          "output_type": "stream",
          "text": [
            "total rows in df_demographics:\n",
            "62447\n"
          ],
          "name": "stdout"
        }
      ]
    },
    {
      "cell_type": "code",
      "metadata": {
        "colab": {
          "base_uri": "https://localhost:8080/"
        },
        "id": "aH3d8WHBCig3",
        "outputId": "9d1b8c10-99c2-4448-f563-217d472b6686"
      },
      "source": [
        "### ALL DATA SETS FROM UNHCR ###\n",
        "\n",
        "# Inner join the df_dc_app and df_demographics files on previously created id field. \n",
        "df_joined = df_dec_app.set_index('id').join(df_demographics.set_index('id'), rsuffix=\"_demos\", how=\"inner\")\n",
        "\n",
        "# print this result to a csv file. this is the complete aggregated file for our original UNHCR Data Source\n",
        "df_joined.to_csv(r'df_joined.csv')\n",
        "print(\"total rows in df_joined:\")\n",
        "print(df_joined.shape[0])\n",
        "\n",
        "# read back in the joined data set. \n",
        "df_joined = pd.read_csv(\"df_joined.csv\")\n",
        "\n",
        "\n",
        "\n"
      ],
      "execution_count": null,
      "outputs": [
        {
          "output_type": "stream",
          "text": [
            "total rows in df_joined:\n",
            "34760\n"
          ],
          "name": "stdout"
        }
      ]
    },
    {
      "cell_type": "code",
      "metadata": {
        "colab": {
          "base_uri": "https://localhost:8080/"
        },
        "id": "fGImISDOCrRR",
        "outputId": "50c926d0-6abf-44da-99d5-6491c0a84452"
      },
      "source": [
        "### GROUP BY COUNTRY OF ORIGIN, SORT BY TOTAL APPLICATIONS###\n",
        "\n",
        "df_origin = df_joined.groupby(['Country of origin_applications','Country of origin (ISO)_applications'])['applied','Recognized decisions','Complementary protection','Rejected decisions','Otherwise closed', 'Total decisions'].sum().reset_index()\n",
        "df_origin = df_origin.sort_values('applied', ascending=False)\n",
        "df_origin[\"total_accepted\"] = df_origin[\"Recognized decisions\"] + df_origin[\"Complementary protection\"]\n",
        "df_origin[\"total_rejected\"] = df_origin[\"Rejected decisions\"] + df_origin[\"Otherwise closed\"]\n",
        "df_origin[\"ratio_accepted\"] = (df_origin[\"total_accepted\"] / df_origin[\"Total decisions\"])\n",
        "df_origin_top10 = df_origin.head(n = 10)\n",
        "df_origin_top10.to_csv(r'df_origin.csv')"
      ],
      "execution_count": null,
      "outputs": [
        {
          "output_type": "stream",
          "text": [
            "/usr/local/lib/python3.7/dist-packages/ipykernel_launcher.py:3: FutureWarning: Indexing with multiple keys (implicitly converted to a tuple of keys) will be deprecated, use a list instead.\n",
            "  This is separate from the ipykernel package so we can avoid doing imports until\n"
          ],
          "name": "stderr"
        }
      ]
    },
    {
      "cell_type": "code",
      "metadata": {
        "colab": {
          "base_uri": "https://localhost:8080/"
        },
        "id": "dJMr4NBYCwyn",
        "outputId": "cdd879de-e209-46cc-a049-536633d7c3af"
      },
      "source": [
        "### GROUP BY COUNTRY OF ASYLUM, SORT BY TOTAL APPLICATIONS ###\n",
        "\n",
        "df_asylum = df_joined.groupby(['Country of asylum_applications','Country of asylum (ISO)_applications'])['applied','Recognized decisions','Complementary protection','Rejected decisions','Otherwise closed', 'Total decisions'].sum().reset_index()\n",
        "df_asylum = df_asylum.sort_values('applied', ascending=False)\n",
        "df_asylum[\"total_accepted\"] = df_asylum[\"Recognized decisions\"] + df_asylum[\"Complementary protection\"]\n",
        "df_asylum[\"total_rejected\"] = df_asylum[\"Rejected decisions\"] + df_asylum[\"Otherwise closed\"]\n",
        "df_asylum[\"ratio_accepted\"] = (df_asylum[\"total_accepted\"] / df_asylum[\"Total decisions\"])\n",
        "df_asylum_top10 = df_asylum.head(n = 10)\n",
        "df_asylum_top10.to_csv(r'df_asylum.csv')"
      ],
      "execution_count": null,
      "outputs": [
        {
          "output_type": "stream",
          "text": [
            "/usr/local/lib/python3.7/dist-packages/ipykernel_launcher.py:3: FutureWarning: Indexing with multiple keys (implicitly converted to a tuple of keys) will be deprecated, use a list instead.\n",
            "  This is separate from the ipykernel package so we can avoid doing imports until\n"
          ],
          "name": "stderr"
        }
      ]
    },
    {
      "cell_type": "code",
      "metadata": {
        "colab": {
          "base_uri": "https://localhost:8080/",
          "height": 574
        },
        "id": "QnI5qgwmCzft",
        "outputId": "02ecbb1d-49d3-4e6c-913c-3c8d989d118e"
      },
      "source": [
        "### CREATE BASIC BAR PLOT OF 10 COUNTRIES WITH MOST ASYLUM SEEKERS SUBMITTING APPLICATIONS ###\n",
        "\n",
        "matplotlib.rc_file_defaults()\n",
        "ax1 = sns.set_style(style=None, rc=None )\n",
        "\n",
        "fig, ax1 = plt.subplots(figsize=(12,6))\n",
        "\n",
        "sns.lineplot(data = df_origin_top10, x='Country of origin (ISO)_applications', y = 'ratio_accepted' , marker='o', sort = False, ax=ax1)\n",
        "ax2 = ax1.twinx()\n",
        "\n",
        "sns.barplot(data = df_origin_top10, x='Country of origin (ISO)_applications', y='applied', alpha=0.5, ax=ax2)"
      ],
      "execution_count": null,
      "outputs": [
        {
          "output_type": "execute_result",
          "data": {
            "text/plain": [
              "<matplotlib.axes._subplots.AxesSubplot at 0x7fa7d6baef10>"
            ]
          },
          "metadata": {
            "tags": []
          },
          "execution_count": 18
        },
        {
          "output_type": "display_data",
          "data": {
            "image/png": "[encoded data removed]",
            "text/plain": [
              "<Figure size 1200x600 with 2 Axes>"
            ]
          },
          "metadata": {
            "tags": []
          }
        }
      ]
    },
    {
      "cell_type": "code",
      "metadata": {
        "colab": {
          "base_uri": "https://localhost:8080/",
          "height": 574
        },
        "id": "mtprU57vC57u",
        "outputId": "08b84335-7b24-482b-de16-52363dd09d11"
      },
      "source": [
        "### CREATE BASIC BAR PLOT OF TOP 10 COUNTRIES OF ASYLUM BY APPLICATIONS RECEIVED ###\n",
        "\n",
        "matplotlib.rc_file_defaults()\n",
        "ax1 = sns.set_style(style=None, rc=None )\n",
        "\n",
        "fig, ax1 = plt.subplots(figsize=(12,6))\n",
        "\n",
        "sns.lineplot(data = df_asylum_top10, x='Country of asylum (ISO)_applications', y = 'ratio_accepted' , marker='o', sort = False, ax=ax1)\n",
        "ax2 = ax1.twinx()\n",
        "\n",
        "sns.barplot(data = df_asylum_top10, x='Country of asylum (ISO)_applications', y='applied', alpha=0.5, ax=ax2)"
      ],
      "execution_count": null,
      "outputs": [
        {
          "output_type": "execute_result",
          "data": {
            "text/plain": [
              "<matplotlib.axes._subplots.AxesSubplot at 0x7fa7d672eed0>"
            ]
          },
          "metadata": {
            "tags": []
          },
          "execution_count": 19
        },
        {
          "output_type": "display_data",
          "data": {
            "image/png": "[encoded data removed]",
            "text/plain": [
              "<Figure size 1200x600 with 2 Axes>"
            ]
          },
          "metadata": {
            "tags": []
          }
        }
      ]
    },
    {
      "cell_type": "code",
      "metadata": {
        "colab": {
          "base_uri": "https://localhost:8080/",
          "height": 545
        },
        "id": "7ubRv7AZlywt",
        "outputId": "8d0b4ee6-a1df-4566-e7cf-f3e45b050a90"
      },
      "source": [
        "country_df = df_joined.groupby(['Country of origin_applications','Country of origin (ISO)_applications','Country of asylum_applications','Country of asylum (ISO)_applications','Year'])['applied','Recognized decisions','Complementary protection','Rejected decisions','Otherwise closed', 'Total decisions'].sum().reset_index()\n",
        "country_df = country_df[country_df['Year'] == 2019]\n",
        "world = geopandas.read_file(geopandas.datasets.get_path('naturalearth_lowres'))\n",
        "# world_csv = world.head(n = 10)\n",
        "# world_csv.to_csv(r'world.csv')\n",
        "\n",
        "country_df = world.set_index('iso_a3').join(country_df.set_index('Country of origin (ISO)_applications'), lsuffix='_map', rsuffix='_data', how='left')\n",
        "country_df['total_accepted'] = country_df[\"Recognized decisions\"] + country_df[\"Complementary protection\"]\n",
        "country_df['ratio_accepted'] = (country_df[\"total_accepted\"] / country_df[\"Total decisions\"])\n",
        "scatter_plot = sns.scatterplot(y = \"applied\", x = \"gdp_md_est\", data = country_df, hue = \"continent\")\n",
        "scatter_plot.set_title(\"GDP Versus Refugee Applications\") #set the title of scatter plot we just created.\n",
        "\n",
        "\n",
        "\n"
      ],
      "execution_count": null,
      "outputs": [
        {
          "output_type": "stream",
          "text": [
            "/usr/local/lib/python3.7/dist-packages/ipykernel_launcher.py:1: FutureWarning: Indexing with multiple keys (implicitly converted to a tuple of keys) will be deprecated, use a list instead.\n",
            "  \"\"\"Entry point for launching an IPython kernel.\n"
          ],
          "name": "stderr"
        },
        {
          "output_type": "execute_result",
          "data": {
            "text/plain": [
              "Text(0.5, 1.0, 'GDP Versus Refugee Applications')"
            ]
          },
          "metadata": {
            "tags": []
          },
          "execution_count": 130
        },
        {
          "output_type": "display_data",
          "data": {
            "image/png": "[encoded data removed]",
            "text/plain": [
              "<Figure size 640x480 with 1 Axes>"
            ]
          },
          "metadata": {
            "tags": []
          }
        }
      ]
    },
    {
      "cell_type": "markdown",
      "metadata": {
        "id": "tHd1ezC73CjW"
      },
      "source": [
        "### FINAL PRODUCT ###\n",
        "\n",
        "working draft \n",
        "\n",
        "*** you have to run all the kernel functions before you run main\n",
        "\n",
        " --> we might end up wanting to put them in the same kernel for the final\n",
        "\n"
      ]
    },
    {
      "cell_type": "code",
      "metadata": {
        "id": "4ZgQFuKOBdQz",
        "colab": {
          "base_uri": "https://localhost:8080/",
          "height": 1000
        },
        "outputId": "5ba1161b-3cbc-44ba-bcad-b65ccc860e0f"
      },
      "source": [
        "def main():\n",
        "    print('Welcome to our product')\n",
        "    print('this product is designed to provide information about refugees around the world')\n",
        "    print('to begin, view these graphs of the most common countries of origin and asylum')\n",
        "    # code for bar charts here \n",
        "    # maybe also put into a function? \n",
        "\n",
        "    # choose country of origin or asylum \n",
        "    type = input('Please enter origin or asylum to select the type of country you would like to learn more about: ')\n",
        "    # print possible country codes based on type selection\n",
        "    if type == 'origin':\n",
        "      print('The top 10 country codes of world refugee countries of origin are: ')\n",
        "      print(df_origin_top10['Country of origin (ISO)_applications'].tolist())\n",
        "    else: \n",
        "      print('The top 10 country codes of world refugee countries of asylum are: ')\n",
        "      print(df_asylum_top10['Country of asylum (ISO)_applications'].tolist())\n",
        "    country = input('Please enter the three digit country code of the country you would like to learn more about: ')\n",
        "    print()\n",
        "    # confirm selection \n",
        "    print('You selected ' + country + ' as the country of ' + type + '.')\n",
        "    \n",
        "    if type == 'origin': \n",
        "      country_df = df_joined.loc[df_joined['Country of origin (ISO)_applications'] == country]\n",
        "      # change the prints below for better formatting \n",
        "      # could add analysis / context for why values are important \n",
        "      print(numAsylumDest(country_df))\n",
        "      print(perWorldRef(country_df))\n",
        "      print(top5asylum(country_df))\n",
        "      print(originTimeSeries(country_df))\n",
        "      print(originmap(country_df))\n",
        "      print(originmapratio(country_df))\n",
        "    else: \n",
        "      country_df = df_joined.loc[df_joined['Country of asylum (ISO)_applications'] == country]\n",
        "      print(numOriginCont(country_df))\n",
        "      print(perWorldRefAsylum(country_df))\n",
        "      print(top5origin(country_df))\n",
        "      print(asylumTimeSeries(country_df))\n",
        "      print(asylummap(country_df))\n",
        "      print(asylummapratio(country_df))\n",
        "\n",
        "if __name__ == \"__main__\":\n",
        "    main()"
      ],
      "execution_count": null,
      "outputs": [
        {
          "output_type": "stream",
          "text": [
            "Welcome to our product\n",
            "this product is designed to provide information about refugees around the world\n",
            "to begin, view these graphs of the most common countries of origin and asylum\n",
            "Please enter origin or asylum to select the type of country you would like to learn more about: origin\n",
            "The top 10 country codes of world refugee countries of origin are: \n",
            "['SYR', 'AFG', 'IRQ', 'VEN', 'COD', 'ERI', 'UKR', 'SOM', 'UNK', 'ZWE']\n",
            "Please enter the three digit country code of the country you would like to learn more about: VEN\n",
            "\n",
            "You selected VEN as the country of origin.\n",
            "43\n",
            "5.0677635731266415\n",
            "['Peru', 'United States of America', 'Brazil', 'Spain', 'Ecuador']\n",
            "[<matplotlib.lines.Line2D object at 0x7fa7c618fc50>]\n"
          ],
          "name": "stdout"
        },
        {
          "output_type": "stream",
          "text": [
            "/usr/local/lib/python3.7/dist-packages/ipykernel_launcher.py:5: FutureWarning: Indexing with multiple keys (implicitly converted to a tuple of keys) will be deprecated, use a list instead.\n",
            "  \"\"\"\n",
            "/usr/local/lib/python3.7/dist-packages/ipykernel_launcher.py:3: FutureWarning: Indexing with multiple keys (implicitly converted to a tuple of keys) will be deprecated, use a list instead.\n",
            "  This is separate from the ipykernel package so we can avoid doing imports until\n"
          ],
          "name": "stderr"
        },
        {
          "output_type": "stream",
          "text": [
            "AxesSubplot(0.125596,0.268664;0.773809x0.498426)\n"
          ],
          "name": "stdout"
        },
        {
          "output_type": "stream",
          "text": [
            "/usr/local/lib/python3.7/dist-packages/ipykernel_launcher.py:3: FutureWarning: Indexing with multiple keys (implicitly converted to a tuple of keys) will be deprecated, use a list instead.\n",
            "  This is separate from the ipykernel package so we can avoid doing imports until\n"
          ],
          "name": "stderr"
        },
        {
          "output_type": "stream",
          "text": [
            "AxesSubplot(0.125596,0.268664;0.773809x0.498426)\n"
          ],
          "name": "stdout"
        },
        {
          "output_type": "display_data",
          "data": {
            "image/png": "[encoded data removed]",
            "text/plain": [
              "<Figure size 640x480 with 1 Axes>"
            ]
          },
          "metadata": {
            "tags": []
          }
        },
        {
          "output_type": "display_data",
          "data": {
            "image/png": "[encoded data removed]",
            "text/plain": [
              "<Figure size 640x480 with 2 Axes>"
            ]
          },
          "metadata": {
            "tags": []
          }
        },
        {
          "output_type": "display_data",
          "data": {
            "image/png": "[encoded data removed]",
            "text/plain": [
              "<Figure size 640x480 with 2 Axes>"
            ]
          },
          "metadata": {
            "tags": []
          }
        }
      ]
    },
    {
      "cell_type": "code",
      "metadata": {
        "id": "SZdTmW3ABlaD"
      },
      "source": [
        "# country of origin function: number of asylum destinations \n",
        "\n",
        "def numAsylumDest(country_df): \n",
        "  n = len(country_df['Country of asylum'].unique())\n",
        "  return n"
      ],
      "execution_count": null,
      "outputs": []
    },
    {
      "cell_type": "code",
      "metadata": {
        "id": "Z1AI-2BXQ9lw"
      },
      "source": [
        "# country of origin function: percentage of world refugees \n",
        "\n",
        "def perWorldRef(country_df): \n",
        "  country_apps = country_df['applied'].sum()\n",
        "  all_apps = df_origin['applied'].sum()\n",
        "  p = country_apps / all_apps\n",
        "  # need to finish formatting like percentage \n",
        "  return p*100"
      ],
      "execution_count": null,
      "outputs": []
    },
    {
      "cell_type": "code",
      "metadata": {
        "id": "zJdZ2IobRbY3"
      },
      "source": [
        "# country of origin function: top 5 countries of asylum \n",
        "\n",
        "def top5asylum(country_df):\n",
        "  country_df.groupby(['Country of asylum_applications']).sum()  \n",
        "  country_df_top = country_df.groupby(['Country of asylum_applications','Country of asylum (ISO)_applications'])['applied','Recognized decisions','Complementary protection','Rejected decisions','Otherwise closed', 'Total decisions'].sum().reset_index()\n",
        "  country_df_top = country_df_top.sort_values('applied', ascending=False)\n",
        "  country_df_top[\"total_accepted\"] = country_df_top[\"Recognized decisions\"] + country_df_top[\"Complementary protection\"]\n",
        "  country_df_top[\"total_rejected\"] = country_df_top[\"Rejected decisions\"] + country_df_top[\"Otherwise closed\"]\n",
        "  country_df_top[\"ratio_accepted\"] = (country_df_top[\"total_accepted\"] / country_df_top[\"Total decisions\"])\n",
        "  country_df_top5 = country_df_top.head(n = 5)\n",
        "  country_df_top5.to_csv(r'country_df_top5.csv')\n",
        "  top5 = country_df_top5['Country of asylum_applications'].tolist()\n",
        "  return top5"
      ],
      "execution_count": null,
      "outputs": []
    },
    {
      "cell_type": "code",
      "metadata": {
        "id": "vIsyALXyS0j9"
      },
      "source": [
        "# country of origin function: time series \n",
        "\n",
        "def originTimeSeries(country_df):\n",
        "  country_df_yr = country_df.groupby(country_df['Year_applications']).sum().reset_index()\n",
        "  # need to re-format plot to be more attractive \n",
        "  fig = plt.figure()\n",
        "  ax = fig.add_subplot(1, 1, 1)\n",
        "  plot = ax.plot(country_df_yr['Year_applications'], country_df_yr['applied'])\n",
        "  return plot\n"
      ],
      "execution_count": null,
      "outputs": []
    },
    {
      "cell_type": "code",
      "metadata": {
        "id": "l83VZiJDVHzr"
      },
      "source": [
        "# country of origin accepted function: map\n",
        "def originmap(country_df):\n",
        "      country_df = country_df.groupby(['Country of origin_applications','Country of origin (ISO)_applications','Country of asylum_applications','Country of asylum (ISO)_applications'])['applied','Recognized decisions','Complementary protection','Rejected decisions','Otherwise closed', 'Total decisions'].sum().reset_index()\n",
        "      world = geopandas.read_file(geopandas.datasets.get_path('naturalearth_lowres'))\n",
        "      country_df = world.set_index('iso_a3').join(country_df.set_index('Country of asylum (ISO)_applications'), lsuffix='_map', rsuffix='_data', how='left')\n",
        "      country_df['total_accepted'] = country_df[\"Recognized decisions\"] + country_df[\"Complementary protection\"]\n",
        "      country_df['ratio_accepted'] = (country_df[\"total_accepted\"] / country_df[\"Total decisions\"])\n",
        "      from mpl_toolkits.axes_grid1 import make_axes_locatable\n",
        "      fig, ax = plt.subplots(1, 1)\n",
        "      divider = make_axes_locatable(ax)\n",
        "      country = str(country_df['Country of origin (ISO)_applications'].iloc[0])\n",
        "      title = \"Total Accepted Refugees from Country of Interest, 2006-2019\"\n",
        "      ax.set(title=title)\n",
        "      cax = divider.append_axes(\"bottom\", size=\"5%\", pad=0.1)\n",
        "      plot1 = country_df.plot(column=\"total_accepted\", ax=ax, legend=True, cax=cax, missing_kwds={'color': 'lightgrey'}, legend_kwds={'label': \"total accepted refugees\", 'orientation':\"horizontal\"})\n",
        "      return plot1\n"
      ],
      "execution_count": null,
      "outputs": []
    },
    {
      "cell_type": "code",
      "metadata": {
        "id": "VOykXoyS25S2"
      },
      "source": [
        "# country of origin ratio functin: map\n",
        "def originmapratio(country_df):\n",
        "      country_df = country_df.groupby(['Country of origin_applications','Country of origin (ISO)_applications','Country of asylum_applications','Country of asylum (ISO)_applications'])['applied','Recognized decisions','Complementary protection','Rejected decisions','Otherwise closed', 'Total decisions'].sum().reset_index()\n",
        "      world = geopandas.read_file(geopandas.datasets.get_path('naturalearth_lowres'))\n",
        "      country_df = world.set_index('iso_a3').join(country_df.set_index('Country of asylum (ISO)_applications'), lsuffix='_map', rsuffix='_data', how='left')\n",
        "      country_df['total_accepted'] = country_df[\"Recognized decisions\"] + country_df[\"Complementary protection\"]\n",
        "      country_df['ratio_accepted'] = (country_df[\"total_accepted\"] / country_df[\"Total decisions\"])\n",
        "      from mpl_toolkits.axes_grid1 import make_axes_locatable\n",
        "      fig, ax = plt.subplots(1, 1)\n",
        "      divider = make_axes_locatable(ax)\n",
        "      ax.set(title='Percentage of Applications Accepted, 2006-2019')\n",
        "      cax = divider.append_axes(\"bottom\", size=\"5%\", pad=0.1)\n",
        "      plot2 = country_df.plot(column=\"ratio_accepted\", ax=ax, legend=True, cax=cax, missing_kwds={'color': 'lightgrey'}, legend_kwds={'label': \"percent of accepted refugees\", 'orientation':\"horizontal\"})\n",
        "      return plot2"
      ],
      "execution_count": null,
      "outputs": []
    },
    {
      "cell_type": "code",
      "metadata": {
        "id": "vXPFivjlVH_g"
      },
      "source": [
        "# country of origin function: demographics "
      ],
      "execution_count": null,
      "outputs": []
    },
    {
      "cell_type": "code",
      "metadata": {
        "id": "6U65Y8cZVpN2"
      },
      "source": [
        "# country of aslyum function: number of origin countries \n",
        "\n",
        "def numOriginCont(country_df): \n",
        "  n = len(country_df['Country of origin'].unique())\n",
        "  return n"
      ],
      "execution_count": null,
      "outputs": []
    },
    {
      "cell_type": "code",
      "metadata": {
        "id": "XnN2uklKVpYL"
      },
      "source": [
        "# country of aslyum function: percent world refugees \n",
        "\n",
        "def perWorldRefAsylum(country_df): \n",
        "  country_apps = country_df['applied'].sum()\n",
        "  all_apps = df_asylum['applied'].sum()\n",
        "  p = country_apps / all_apps\n",
        "  # need to finish formatting like percentage \n",
        "  return p*100"
      ],
      "execution_count": null,
      "outputs": []
    },
    {
      "cell_type": "code",
      "metadata": {
        "id": "80l3OJIYVphF"
      },
      "source": [
        "# country of aslyum function: top 5 countries of origin\n",
        "\n",
        "def top5origin(country_df):\n",
        "  country_df.groupby(['Country of origin_applications']).sum()  \n",
        "  country_df_top = country_df.groupby(['Country of origin_applications','Country of origin (ISO)_applications'])['applied','Recognized decisions','Complementary protection','Rejected decisions','Otherwise closed', 'Total decisions'].sum().reset_index()\n",
        "  country_df_top = country_df_top.sort_values('applied', ascending=False)\n",
        "  country_df_top[\"total_accepted\"] = country_df_top[\"Recognized decisions\"] + country_df_top[\"Complementary protection\"]\n",
        "  country_df_top[\"total_rejected\"] = country_df_top[\"Rejected decisions\"] + country_df_top[\"Otherwise closed\"]\n",
        "  country_df_top[\"ratio_accepted\"] = (country_df_top[\"total_accepted\"] / country_df_top[\"Total decisions\"])\n",
        "  country_df_top5 = country_df_top.head(n = 5)\n",
        "  country_df_top5.to_csv(r'country_df_top5.csv')\n",
        "  top5 = country_df_top5['Country of origin_applications'].tolist()\n",
        "  return top5"
      ],
      "execution_count": null,
      "outputs": []
    },
    {
      "cell_type": "code",
      "metadata": {
        "id": "mlpXh905VpoW"
      },
      "source": [
        "# country of aslyum function: time series\n",
        "\n",
        "def asylumTimeSeries(country_df):\n",
        "  country_df_yr = country_df.groupby(country_df['Year_applications']).sum().reset_index()\n",
        "  # need to re-format plot to be more attractive \n",
        "  fig = plt.figure()\n",
        "  ax = fig.add_subplot(1, 1, 1)\n",
        "  plot = ax.plot(country_df_yr['Year_applications'], country_df_yr['applied'])\n",
        "  return plot\n"
      ],
      "execution_count": null,
      "outputs": []
    },
    {
      "cell_type": "code",
      "metadata": {
        "id": "GMLB7m9iVpv7"
      },
      "source": [
        "# country of aslyum function: map \n",
        "\n",
        "def asylummap(country_df):\n",
        "      country_df = country_df.groupby(['Country of asylum_applications','Country of asylum (ISO)_applications','Country of origin_applications','Country of origin (ISO)_applications'])['applied','Recognized decisions','Complementary protection','Rejected decisions','Otherwise closed', 'Total decisions'].sum().reset_index()\n",
        "      world = geopandas.read_file(geopandas.datasets.get_path('naturalearth_lowres'))\n",
        "      country_df = world.set_index('iso_a3').join(country_df.set_index('Country of origin (ISO)_applications'), lsuffix='_map', rsuffix='_data', how='left')\n",
        "      country_df['total_accepted'] = country_df[\"Recognized decisions\"] + country_df[\"Complementary protection\"]\n",
        "      country_df['ratio_accepted'] = (country_df[\"total_accepted\"] / country_df[\"Total decisions\"])\n",
        "      from mpl_toolkits.axes_grid1 import make_axes_locatable\n",
        "      fig, ax = plt.subplots(1, 1)\n",
        "      divider = make_axes_locatable(ax)\n",
        "      country = str(country_df['Country of asylum (ISO)_applications'].iloc[0])\n",
        "      title = \"Total Accepted Refugees by Country of Interest, 2006-2019\"\n",
        "      ax.set(title=title)\n",
        "      cax = divider.append_axes(\"bottom\", size=\"5%\", pad=0.1)\n",
        "      plot1 = country_df.plot(column=\"total_accepted\", ax=ax, legend=True, cax=cax, missing_kwds={'color': 'lightgrey'}, legend_kwds={'label': \"total accepted refugees\", 'orientation':\"horizontal\"})\n",
        "      return plot1\n",
        "\n",
        "\n"
      ],
      "execution_count": null,
      "outputs": []
    },
    {
      "cell_type": "code",
      "metadata": {
        "id": "cbBRW7xU8e9e"
      },
      "source": [
        "# country of aslyum ratio function: map \n",
        "\n",
        "def asylummapratio(country_df):\n",
        "      country_df = country_df.groupby(['Country of asylum_applications','Country of asylum (ISO)_applications','Country of origin_applications','Country of origin (ISO)_applications'])['applied','Recognized decisions','Complementary protection','Rejected decisions','Otherwise closed', 'Total decisions'].sum().reset_index()\n",
        "      world = geopandas.read_file(geopandas.datasets.get_path('naturalearth_lowres'))\n",
        "      country_df = world.set_index('iso_a3').join(country_df.set_index('Country of origin (ISO)_applications'), lsuffix='_map', rsuffix='_data', how='left')\n",
        "      country_df['total_accepted'] = country_df[\"Recognized decisions\"] + country_df[\"Complementary protection\"]\n",
        "      country_df['ratio_accepted'] = (country_df[\"total_accepted\"] / country_df[\"Total decisions\"])\n",
        "      from mpl_toolkits.axes_grid1 import make_axes_locatable\n",
        "      fig, ax = plt.subplots(1, 1)\n",
        "      divider = make_axes_locatable(ax)\n",
        "      ax.set(title='Percentage of Applications Accepted by Country of Interest, 2006-2019')\n",
        "      cax = divider.append_axes(\"bottom\", size=\"5%\", pad=0.1)\n",
        "      plot2 = country_df.plot(column=\"ratio_accepted\", ax=ax, legend=True, cax=cax, missing_kwds={'color': 'lightgrey'}, legend_kwds={'label': \"percent of accepted refugees\", 'orientation':\"horizontal\"})\n",
        "      return plot2"
      ],
      "execution_count": null,
      "outputs": []
    },
    {
      "cell_type": "code",
      "metadata": {
        "id": "eo2mFOMHVp4l"
      },
      "source": [
        "# country of aslyum function: demographic"
      ],
      "execution_count": null,
      "outputs": []
    },
    {
      "cell_type": "markdown",
      "metadata": {
        "id": "H6nmEVZzQtSX"
      },
      "source": [
        "### Testing Code ###\n"
      ]
    },
    {
      "cell_type": "code",
      "metadata": {
        "colab": {
          "base_uri": "https://localhost:8080/",
          "height": 830
        },
        "id": "_K_YSv-pDqIs",
        "outputId": "c0014a34-49e6-4d93-dc69-08f6679bbf48"
      },
      "source": [
        "### DATAFRAME FOR #1 COUNTRY OF ORIGIN ### \n",
        "\n",
        "syr_df = df_joined.loc[df_joined['Country of origin (ISO)_applications'] == 'SYR']\n",
        "\n",
        "syr_df"
      ],
      "execution_count": null,
      "outputs": [
        {
          "output_type": "execute_result",
          "data": {
            "text/html": [
              "<div>\n",
              "<style scoped>\n",
              "    .dataframe tbody tr th:only-of-type {\n",
              "        vertical-align: middle;\n",
              "    }\n",
              "\n",
              "    .dataframe tbody tr th {\n",
              "        vertical-align: top;\n",
              "    }\n",
              "\n",
              "    .dataframe thead th {\n",
              "        text-align: right;\n",
              "    }\n",
              "</style>\n",
              "<table border=\"1\" class=\"dataframe\">\n",
              "  <thead>\n",
              "    <tr style=\"text-align: right;\">\n",
              "      <th></th>\n",
              "      <th>id</th>\n",
              "      <th>Year_applications</th>\n",
              "      <th>Country of origin_applications</th>\n",
              "      <th>Country of origin (ISO)_applications</th>\n",
              "      <th>Country of asylum_applications</th>\n",
              "      <th>Country of asylum (ISO)_applications</th>\n",
              "      <th>applied</th>\n",
              "      <th>Year_decisions</th>\n",
              "      <th>Country of origin_decisions</th>\n",
              "      <th>Country of origin (ISO)_decisions</th>\n",
              "      <th>Country of asylum_decisions</th>\n",
              "      <th>Country of asylum (ISO)_decisions</th>\n",
              "      <th>Recognized decisions</th>\n",
              "      <th>Complementary protection</th>\n",
              "      <th>Rejected decisions</th>\n",
              "      <th>Otherwise closed</th>\n",
              "      <th>Total decisions</th>\n",
              "      <th>Year</th>\n",
              "      <th>Country of origin</th>\n",
              "      <th>Country of origin (ISO)</th>\n",
              "      <th>Country of asylum</th>\n",
              "      <th>Country of asylum (ISO)</th>\n",
              "      <th>Female 0 - 4</th>\n",
              "      <th>Female 5 - 11</th>\n",
              "      <th>Female 12 - 17</th>\n",
              "      <th>Female 5 - 17</th>\n",
              "      <th>Female 18 - 59</th>\n",
              "      <th>Female 60</th>\n",
              "      <th>f_other</th>\n",
              "      <th>Female total</th>\n",
              "      <th>f_unknown</th>\n",
              "      <th>Male 0 - 4</th>\n",
              "      <th>Male 5 - 11</th>\n",
              "      <th>Male 12 - 17</th>\n",
              "      <th>Male 5 - 17</th>\n",
              "      <th>Male 18 - 59</th>\n",
              "      <th>Male 60</th>\n",
              "      <th>Male total</th>\n",
              "      <th>m_other</th>\n",
              "      <th>m_unknown</th>\n",
              "      <th>Total</th>\n",
              "    </tr>\n",
              "  </thead>\n",
              "  <tbody>\n",
              "    <tr>\n",
              "      <th>1823</th>\n",
              "      <td>2006-SYR-ARE</td>\n",
              "      <td>2006</td>\n",
              "      <td>Syrian Arab Rep.</td>\n",
              "      <td>SYR</td>\n",
              "      <td>United Arab Emirates</td>\n",
              "      <td>ARE</td>\n",
              "      <td>24</td>\n",
              "      <td>2006</td>\n",
              "      <td>Syrian Arab Rep.</td>\n",
              "      <td>SYR</td>\n",
              "      <td>United Arab Emirates</td>\n",
              "      <td>ARE</td>\n",
              "      <td>69</td>\n",
              "      <td>0</td>\n",
              "      <td>0</td>\n",
              "      <td>0</td>\n",
              "      <td>69</td>\n",
              "      <td>2006</td>\n",
              "      <td>Syrian Arab Rep.</td>\n",
              "      <td>SYR</td>\n",
              "      <td>United Arab Emirates</td>\n",
              "      <td>ARE</td>\n",
              "      <td>6</td>\n",
              "      <td>0</td>\n",
              "      <td>0</td>\n",
              "      <td>UNK</td>\n",
              "      <td>22</td>\n",
              "      <td>0</td>\n",
              "      <td>UNK</td>\n",
              "      <td>34</td>\n",
              "      <td>UNK</td>\n",
              "      <td>9</td>\n",
              "      <td>0</td>\n",
              "      <td>0</td>\n",
              "      <td>UNK</td>\n",
              "      <td>26</td>\n",
              "      <td>0</td>\n",
              "      <td>47</td>\n",
              "      <td>UNK</td>\n",
              "      <td>UNK</td>\n",
              "      <td>81</td>\n",
              "    </tr>\n",
              "    <tr>\n",
              "      <th>1824</th>\n",
              "      <td>2006-SYR-AUS</td>\n",
              "      <td>2006</td>\n",
              "      <td>Syrian Arab Rep.</td>\n",
              "      <td>SYR</td>\n",
              "      <td>Australia</td>\n",
              "      <td>AUS</td>\n",
              "      <td>15</td>\n",
              "      <td>2006</td>\n",
              "      <td>Syrian Arab Rep.</td>\n",
              "      <td>SYR</td>\n",
              "      <td>Australia</td>\n",
              "      <td>AUS</td>\n",
              "      <td>0</td>\n",
              "      <td>0</td>\n",
              "      <td>10</td>\n",
              "      <td>0</td>\n",
              "      <td>10</td>\n",
              "      <td>2006</td>\n",
              "      <td>Syrian Arab Rep.</td>\n",
              "      <td>SYR</td>\n",
              "      <td>Australia</td>\n",
              "      <td>AUS</td>\n",
              "      <td>0</td>\n",
              "      <td>0</td>\n",
              "      <td>0</td>\n",
              "      <td>UNK</td>\n",
              "      <td>0</td>\n",
              "      <td>0</td>\n",
              "      <td>UNK</td>\n",
              "      <td>0</td>\n",
              "      <td>UNK</td>\n",
              "      <td>0</td>\n",
              "      <td>0</td>\n",
              "      <td>0</td>\n",
              "      <td>UNK</td>\n",
              "      <td>0</td>\n",
              "      <td>0</td>\n",
              "      <td>0</td>\n",
              "      <td>UNK</td>\n",
              "      <td>UNK</td>\n",
              "      <td>132</td>\n",
              "    </tr>\n",
              "    <tr>\n",
              "      <th>1825</th>\n",
              "      <td>2006-SYR-AUT</td>\n",
              "      <td>2006</td>\n",
              "      <td>Syrian Arab Rep.</td>\n",
              "      <td>SYR</td>\n",
              "      <td>Austria</td>\n",
              "      <td>AUT</td>\n",
              "      <td>88</td>\n",
              "      <td>2006</td>\n",
              "      <td>Syrian Arab Rep.</td>\n",
              "      <td>SYR</td>\n",
              "      <td>Austria</td>\n",
              "      <td>AUT</td>\n",
              "      <td>47</td>\n",
              "      <td>0</td>\n",
              "      <td>20</td>\n",
              "      <td>22</td>\n",
              "      <td>89</td>\n",
              "      <td>2006</td>\n",
              "      <td>Syrian Arab Rep.</td>\n",
              "      <td>SYR</td>\n",
              "      <td>Austria</td>\n",
              "      <td>AUT</td>\n",
              "      <td>0</td>\n",
              "      <td>0</td>\n",
              "      <td>0</td>\n",
              "      <td>UNK</td>\n",
              "      <td>0</td>\n",
              "      <td>0</td>\n",
              "      <td>UNK</td>\n",
              "      <td>0</td>\n",
              "      <td>UNK</td>\n",
              "      <td>0</td>\n",
              "      <td>0</td>\n",
              "      <td>0</td>\n",
              "      <td>UNK</td>\n",
              "      <td>0</td>\n",
              "      <td>0</td>\n",
              "      <td>0</td>\n",
              "      <td>UNK</td>\n",
              "      <td>UNK</td>\n",
              "      <td>457</td>\n",
              "    </tr>\n",
              "    <tr>\n",
              "      <th>1826</th>\n",
              "      <td>2006-SYR-BEL</td>\n",
              "      <td>2006</td>\n",
              "      <td>Syrian Arab Rep.</td>\n",
              "      <td>SYR</td>\n",
              "      <td>Belgium</td>\n",
              "      <td>BEL</td>\n",
              "      <td>221</td>\n",
              "      <td>2006</td>\n",
              "      <td>Syrian Arab Rep.</td>\n",
              "      <td>SYR</td>\n",
              "      <td>Belgium</td>\n",
              "      <td>BEL</td>\n",
              "      <td>10</td>\n",
              "      <td>0</td>\n",
              "      <td>124</td>\n",
              "      <td>114</td>\n",
              "      <td>248</td>\n",
              "      <td>2006</td>\n",
              "      <td>Syrian Arab Rep.</td>\n",
              "      <td>SYR</td>\n",
              "      <td>Belgium</td>\n",
              "      <td>BEL</td>\n",
              "      <td>0</td>\n",
              "      <td>0</td>\n",
              "      <td>0</td>\n",
              "      <td>UNK</td>\n",
              "      <td>0</td>\n",
              "      <td>0</td>\n",
              "      <td>UNK</td>\n",
              "      <td>28</td>\n",
              "      <td>UNK</td>\n",
              "      <td>0</td>\n",
              "      <td>0</td>\n",
              "      <td>0</td>\n",
              "      <td>UNK</td>\n",
              "      <td>0</td>\n",
              "      <td>0</td>\n",
              "      <td>72</td>\n",
              "      <td>UNK</td>\n",
              "      <td>UNK</td>\n",
              "      <td>253</td>\n",
              "    </tr>\n",
              "    <tr>\n",
              "      <th>1827</th>\n",
              "      <td>2006-SYR-BGR</td>\n",
              "      <td>2006</td>\n",
              "      <td>Syrian Arab Rep.</td>\n",
              "      <td>SYR</td>\n",
              "      <td>Bulgaria</td>\n",
              "      <td>BGR</td>\n",
              "      <td>10</td>\n",
              "      <td>2006</td>\n",
              "      <td>Syrian Arab Rep.</td>\n",
              "      <td>SYR</td>\n",
              "      <td>Bulgaria</td>\n",
              "      <td>BGR</td>\n",
              "      <td>0</td>\n",
              "      <td>0</td>\n",
              "      <td>5</td>\n",
              "      <td>5</td>\n",
              "      <td>10</td>\n",
              "      <td>2006</td>\n",
              "      <td>Syrian Arab Rep.</td>\n",
              "      <td>SYR</td>\n",
              "      <td>Bulgaria</td>\n",
              "      <td>BGR</td>\n",
              "      <td>0</td>\n",
              "      <td>0</td>\n",
              "      <td>0</td>\n",
              "      <td>UNK</td>\n",
              "      <td>0</td>\n",
              "      <td>0</td>\n",
              "      <td>UNK</td>\n",
              "      <td>0</td>\n",
              "      <td>UNK</td>\n",
              "      <td>0</td>\n",
              "      <td>0</td>\n",
              "      <td>0</td>\n",
              "      <td>UNK</td>\n",
              "      <td>0</td>\n",
              "      <td>0</td>\n",
              "      <td>0</td>\n",
              "      <td>UNK</td>\n",
              "      <td>UNK</td>\n",
              "      <td>79</td>\n",
              "    </tr>\n",
              "    <tr>\n",
              "      <th>...</th>\n",
              "      <td>...</td>\n",
              "      <td>...</td>\n",
              "      <td>...</td>\n",
              "      <td>...</td>\n",
              "      <td>...</td>\n",
              "      <td>...</td>\n",
              "      <td>...</td>\n",
              "      <td>...</td>\n",
              "      <td>...</td>\n",
              "      <td>...</td>\n",
              "      <td>...</td>\n",
              "      <td>...</td>\n",
              "      <td>...</td>\n",
              "      <td>...</td>\n",
              "      <td>...</td>\n",
              "      <td>...</td>\n",
              "      <td>...</td>\n",
              "      <td>...</td>\n",
              "      <td>...</td>\n",
              "      <td>...</td>\n",
              "      <td>...</td>\n",
              "      <td>...</td>\n",
              "      <td>...</td>\n",
              "      <td>...</td>\n",
              "      <td>...</td>\n",
              "      <td>...</td>\n",
              "      <td>...</td>\n",
              "      <td>...</td>\n",
              "      <td>...</td>\n",
              "      <td>...</td>\n",
              "      <td>...</td>\n",
              "      <td>...</td>\n",
              "      <td>...</td>\n",
              "      <td>...</td>\n",
              "      <td>...</td>\n",
              "      <td>...</td>\n",
              "      <td>...</td>\n",
              "      <td>...</td>\n",
              "      <td>...</td>\n",
              "      <td>...</td>\n",
              "      <td>...</td>\n",
              "    </tr>\n",
              "    <tr>\n",
              "      <th>34270</th>\n",
              "      <td>2019-SYR-TTO</td>\n",
              "      <td>2019</td>\n",
              "      <td>Syrian Arab Rep.</td>\n",
              "      <td>SYR</td>\n",
              "      <td>Trinidad and Tobago</td>\n",
              "      <td>TTO</td>\n",
              "      <td>10</td>\n",
              "      <td>2019</td>\n",
              "      <td>Syrian Arab Rep.</td>\n",
              "      <td>SYR</td>\n",
              "      <td>Trinidad and Tobago</td>\n",
              "      <td>TTO</td>\n",
              "      <td>5</td>\n",
              "      <td>0</td>\n",
              "      <td>0</td>\n",
              "      <td>0</td>\n",
              "      <td>5</td>\n",
              "      <td>2019</td>\n",
              "      <td>Syrian Arab Rep.</td>\n",
              "      <td>SYR</td>\n",
              "      <td>Trinidad and Tobago</td>\n",
              "      <td>TTO</td>\n",
              "      <td>0</td>\n",
              "      <td>0</td>\n",
              "      <td>0</td>\n",
              "      <td>UNK</td>\n",
              "      <td>0</td>\n",
              "      <td>0</td>\n",
              "      <td>UNK</td>\n",
              "      <td>0</td>\n",
              "      <td>UNK</td>\n",
              "      <td>0</td>\n",
              "      <td>0</td>\n",
              "      <td>0</td>\n",
              "      <td>UNK</td>\n",
              "      <td>0</td>\n",
              "      <td>0</td>\n",
              "      <td>0</td>\n",
              "      <td>UNK</td>\n",
              "      <td>UNK</td>\n",
              "      <td>96</td>\n",
              "    </tr>\n",
              "    <tr>\n",
              "      <th>34271</th>\n",
              "      <td>2019-SYR-UKR</td>\n",
              "      <td>2019</td>\n",
              "      <td>Syrian Arab Rep.</td>\n",
              "      <td>SYR</td>\n",
              "      <td>Ukraine</td>\n",
              "      <td>UKR</td>\n",
              "      <td>78</td>\n",
              "      <td>2019</td>\n",
              "      <td>Syrian Arab Rep.</td>\n",
              "      <td>SYR</td>\n",
              "      <td>Ukraine</td>\n",
              "      <td>UKR</td>\n",
              "      <td>0</td>\n",
              "      <td>20</td>\n",
              "      <td>73</td>\n",
              "      <td>314</td>\n",
              "      <td>407</td>\n",
              "      <td>2019</td>\n",
              "      <td>Syrian Arab Rep.</td>\n",
              "      <td>SYR</td>\n",
              "      <td>Ukraine</td>\n",
              "      <td>UKR</td>\n",
              "      <td>0</td>\n",
              "      <td>0</td>\n",
              "      <td>8</td>\n",
              "      <td>UNK</td>\n",
              "      <td>20</td>\n",
              "      <td>0</td>\n",
              "      <td>UNK</td>\n",
              "      <td>99</td>\n",
              "      <td>UNK</td>\n",
              "      <td>0</td>\n",
              "      <td>0</td>\n",
              "      <td>5</td>\n",
              "      <td>UNK</td>\n",
              "      <td>128</td>\n",
              "      <td>0</td>\n",
              "      <td>524</td>\n",
              "      <td>UNK</td>\n",
              "      <td>UNK</td>\n",
              "      <td>623</td>\n",
              "    </tr>\n",
              "    <tr>\n",
              "      <th>34272</th>\n",
              "      <td>2019-SYR-URY</td>\n",
              "      <td>2019</td>\n",
              "      <td>Syrian Arab Rep.</td>\n",
              "      <td>SYR</td>\n",
              "      <td>Uruguay</td>\n",
              "      <td>URY</td>\n",
              "      <td>10</td>\n",
              "      <td>2019</td>\n",
              "      <td>Syrian Arab Rep.</td>\n",
              "      <td>SYR</td>\n",
              "      <td>Uruguay</td>\n",
              "      <td>URY</td>\n",
              "      <td>0</td>\n",
              "      <td>0</td>\n",
              "      <td>0</td>\n",
              "      <td>5</td>\n",
              "      <td>5</td>\n",
              "      <td>2019</td>\n",
              "      <td>Syrian Arab Rep.</td>\n",
              "      <td>SYR</td>\n",
              "      <td>Uruguay</td>\n",
              "      <td>URY</td>\n",
              "      <td>0</td>\n",
              "      <td>5</td>\n",
              "      <td>6</td>\n",
              "      <td>UNK</td>\n",
              "      <td>17</td>\n",
              "      <td>0</td>\n",
              "      <td>UNK</td>\n",
              "      <td>28</td>\n",
              "      <td>UNK</td>\n",
              "      <td>0</td>\n",
              "      <td>8</td>\n",
              "      <td>9</td>\n",
              "      <td>UNK</td>\n",
              "      <td>23</td>\n",
              "      <td>0</td>\n",
              "      <td>40</td>\n",
              "      <td>UNK</td>\n",
              "      <td>UNK</td>\n",
              "      <td>68</td>\n",
              "    </tr>\n",
              "    <tr>\n",
              "      <th>34273</th>\n",
              "      <td>2019-SYR-USA</td>\n",
              "      <td>2019</td>\n",
              "      <td>Syrian Arab Rep.</td>\n",
              "      <td>SYR</td>\n",
              "      <td>United States of America</td>\n",
              "      <td>USA</td>\n",
              "      <td>376</td>\n",
              "      <td>2019</td>\n",
              "      <td>Syrian Arab Rep.</td>\n",
              "      <td>SYR</td>\n",
              "      <td>United States of America</td>\n",
              "      <td>USA</td>\n",
              "      <td>473</td>\n",
              "      <td>0</td>\n",
              "      <td>225</td>\n",
              "      <td>147</td>\n",
              "      <td>845</td>\n",
              "      <td>2019</td>\n",
              "      <td>Syrian Arab Rep.</td>\n",
              "      <td>SYR</td>\n",
              "      <td>United States of America</td>\n",
              "      <td>USA</td>\n",
              "      <td>0</td>\n",
              "      <td>0</td>\n",
              "      <td>0</td>\n",
              "      <td>UNK</td>\n",
              "      <td>0</td>\n",
              "      <td>0</td>\n",
              "      <td>UNK</td>\n",
              "      <td>0</td>\n",
              "      <td>UNK</td>\n",
              "      <td>0</td>\n",
              "      <td>0</td>\n",
              "      <td>0</td>\n",
              "      <td>UNK</td>\n",
              "      <td>0</td>\n",
              "      <td>0</td>\n",
              "      <td>0</td>\n",
              "      <td>UNK</td>\n",
              "      <td>UNK</td>\n",
              "      <td>11109</td>\n",
              "    </tr>\n",
              "    <tr>\n",
              "      <th>34274</th>\n",
              "      <td>2019-SYR-ZMB</td>\n",
              "      <td>2019</td>\n",
              "      <td>Syrian Arab Rep.</td>\n",
              "      <td>SYR</td>\n",
              "      <td>Zambia</td>\n",
              "      <td>ZMB</td>\n",
              "      <td>5</td>\n",
              "      <td>2019</td>\n",
              "      <td>Syrian Arab Rep.</td>\n",
              "      <td>SYR</td>\n",
              "      <td>Zambia</td>\n",
              "      <td>ZMB</td>\n",
              "      <td>0</td>\n",
              "      <td>0</td>\n",
              "      <td>0</td>\n",
              "      <td>5</td>\n",
              "      <td>5</td>\n",
              "      <td>2019</td>\n",
              "      <td>Syrian Arab Rep.</td>\n",
              "      <td>SYR</td>\n",
              "      <td>Zambia</td>\n",
              "      <td>ZMB</td>\n",
              "      <td>0</td>\n",
              "      <td>6</td>\n",
              "      <td>0</td>\n",
              "      <td>UNK</td>\n",
              "      <td>0</td>\n",
              "      <td>0</td>\n",
              "      <td>UNK</td>\n",
              "      <td>6</td>\n",
              "      <td>UNK</td>\n",
              "      <td>0</td>\n",
              "      <td>0</td>\n",
              "      <td>0</td>\n",
              "      <td>UNK</td>\n",
              "      <td>15</td>\n",
              "      <td>0</td>\n",
              "      <td>15</td>\n",
              "      <td>UNK</td>\n",
              "      <td>UNK</td>\n",
              "      <td>21</td>\n",
              "    </tr>\n",
              "  </tbody>\n",
              "</table>\n",
              "<p>831 rows × 41 columns</p>\n",
              "</div>"
            ],
            "text/plain": [
              "                 id  Year_applications  ... m_unknown  Total\n",
              "1823   2006-SYR-ARE               2006  ...       UNK     81\n",
              "1824   2006-SYR-AUS               2006  ...       UNK    132\n",
              "1825   2006-SYR-AUT               2006  ...       UNK    457\n",
              "1826   2006-SYR-BEL               2006  ...       UNK    253\n",
              "1827   2006-SYR-BGR               2006  ...       UNK     79\n",
              "...             ...                ...  ...       ...    ...\n",
              "34270  2019-SYR-TTO               2019  ...       UNK     96\n",
              "34271  2019-SYR-UKR               2019  ...       UNK    623\n",
              "34272  2019-SYR-URY               2019  ...       UNK     68\n",
              "34273  2019-SYR-USA               2019  ...       UNK  11109\n",
              "34274  2019-SYR-ZMB               2019  ...       UNK     21\n",
              "\n",
              "[831 rows x 41 columns]"
            ]
          },
          "metadata": {
            "tags": []
          },
          "execution_count": 18
        }
      ]
    },
    {
      "cell_type": "code",
      "metadata": {
        "colab": {
          "base_uri": "https://localhost:8080/"
        },
        "id": "P_WvudyTFG6x",
        "outputId": "1c3bae69-f98d-476b-ce01-a0493c3792dd"
      },
      "source": [
        "syr_df['Country of asylum'].unique()\n",
        "\n",
        "# asylum seekers from SYR, went to 110 different countries \n",
        "n = len(syr_df['Country of asylum'].unique())\n",
        "n"
      ],
      "execution_count": null,
      "outputs": [
        {
          "output_type": "execute_result",
          "data": {
            "text/plain": [
              "110"
            ]
          },
          "metadata": {
            "tags": []
          },
          "execution_count": 25
        }
      ]
    },
    {
      "cell_type": "code",
      "metadata": {
        "colab": {
          "base_uri": "https://localhost:8080/",
          "height": 275
        },
        "id": "iYpQINc-F8wi",
        "outputId": "f4f35a9e-92c0-4afb-cb70-9478747a3157"
      },
      "source": [
        "# top 5 countries of asylum for seekers from SYR \n",
        "\n",
        "syr_df.groupby(['Country of asylum_applications']).sum()\n",
        "\n",
        "syr_df\n",
        "\n",
        "syr_df_top = syr_df.groupby(['Country of asylum_applications','Country of asylum (ISO)_applications'])['applied','Recognized decisions','Complementary protection','Rejected decisions','Otherwise closed', 'Total decisions'].sum().reset_index()\n",
        "syr_df_top = syr_df_top.sort_values('applied', ascending=False)\n",
        "syr_df_top[\"total_accepted\"] = syr_df_top[\"Recognized decisions\"] + syr_df_top[\"Complementary protection\"]\n",
        "syr_df_top[\"total_rejected\"] = syr_df_top[\"Rejected decisions\"] + syr_df_top[\"Otherwise closed\"]\n",
        "syr_df_top[\"ratio_accepted\"] = (syr_df_top[\"total_accepted\"] / syr_df_top[\"Total decisions\"])\n",
        "syr_df_top5 = syr_df_top.head(n = 5)\n",
        "syr_df_top5.to_csv(r'syr_df_top5.csv')\n",
        "\n",
        "syr_df_top5"
      ],
      "execution_count": null,
      "outputs": [
        {
          "output_type": "stream",
          "text": [
            "/usr/local/lib/python3.7/dist-packages/ipykernel_launcher.py:7: FutureWarning: Indexing with multiple keys (implicitly converted to a tuple of keys) will be deprecated, use a list instead.\n",
            "  import sys\n"
          ],
          "name": "stderr"
        },
        {
          "output_type": "execute_result",
          "data": {
            "text/html": [
              "<div>\n",
              "<style scoped>\n",
              "    .dataframe tbody tr th:only-of-type {\n",
              "        vertical-align: middle;\n",
              "    }\n",
              "\n",
              "    .dataframe tbody tr th {\n",
              "        vertical-align: top;\n",
              "    }\n",
              "\n",
              "    .dataframe thead th {\n",
              "        text-align: right;\n",
              "    }\n",
              "</style>\n",
              "<table border=\"1\" class=\"dataframe\">\n",
              "  <thead>\n",
              "    <tr style=\"text-align: right;\">\n",
              "      <th></th>\n",
              "      <th>Country of asylum_applications</th>\n",
              "      <th>Country of asylum (ISO)_applications</th>\n",
              "      <th>applied</th>\n",
              "      <th>Recognized decisions</th>\n",
              "      <th>Complementary protection</th>\n",
              "      <th>Rejected decisions</th>\n",
              "      <th>Otherwise closed</th>\n",
              "      <th>Total decisions</th>\n",
              "      <th>total_accepted</th>\n",
              "      <th>total_rejected</th>\n",
              "      <th>ratio_accepted</th>\n",
              "    </tr>\n",
              "  </thead>\n",
              "  <tbody>\n",
              "    <tr>\n",
              "      <th>40</th>\n",
              "      <td>Germany</td>\n",
              "      <td>DEU</td>\n",
              "      <td>654436</td>\n",
              "      <td>406192</td>\n",
              "      <td>230261</td>\n",
              "      <td>40682</td>\n",
              "      <td>70930</td>\n",
              "      <td>748065</td>\n",
              "      <td>636453</td>\n",
              "      <td>111612</td>\n",
              "      <td>0.850799</td>\n",
              "    </tr>\n",
              "    <tr>\n",
              "      <th>95</th>\n",
              "      <td>Sweden</td>\n",
              "      <td>SWE</td>\n",
              "      <td>135188</td>\n",
              "      <td>11229</td>\n",
              "      <td>97468</td>\n",
              "      <td>8751</td>\n",
              "      <td>15693</td>\n",
              "      <td>133141</td>\n",
              "      <td>108697</td>\n",
              "      <td>24444</td>\n",
              "      <td>0.816405</td>\n",
              "    </tr>\n",
              "    <tr>\n",
              "      <th>42</th>\n",
              "      <td>Greece</td>\n",
              "      <td>GRC</td>\n",
              "      <td>78976</td>\n",
              "      <td>22628</td>\n",
              "      <td>317</td>\n",
              "      <td>4032</td>\n",
              "      <td>7867</td>\n",
              "      <td>34844</td>\n",
              "      <td>22945</td>\n",
              "      <td>11899</td>\n",
              "      <td>0.658506</td>\n",
              "    </tr>\n",
              "    <tr>\n",
              "      <th>43</th>\n",
              "      <td>Hungary</td>\n",
              "      <td>HUN</td>\n",
              "      <td>78419</td>\n",
              "      <td>222</td>\n",
              "      <td>808</td>\n",
              "      <td>1285</td>\n",
              "      <td>70567</td>\n",
              "      <td>72882</td>\n",
              "      <td>1030</td>\n",
              "      <td>71852</td>\n",
              "      <td>0.014132</td>\n",
              "    </tr>\n",
              "    <tr>\n",
              "      <th>6</th>\n",
              "      <td>Austria</td>\n",
              "      <td>AUT</td>\n",
              "      <td>50676</td>\n",
              "      <td>45063</td>\n",
              "      <td>3227</td>\n",
              "      <td>1634</td>\n",
              "      <td>3271</td>\n",
              "      <td>53195</td>\n",
              "      <td>48290</td>\n",
              "      <td>4905</td>\n",
              "      <td>0.907792</td>\n",
              "    </tr>\n",
              "  </tbody>\n",
              "</table>\n",
              "</div>"
            ],
            "text/plain": [
              "   Country of asylum_applications  ... ratio_accepted\n",
              "40                        Germany  ...       0.850799\n",
              "95                         Sweden  ...       0.816405\n",
              "42                         Greece  ...       0.658506\n",
              "43                        Hungary  ...       0.014132\n",
              "6                         Austria  ...       0.907792\n",
              "\n",
              "[5 rows x 11 columns]"
            ]
          },
          "metadata": {
            "tags": []
          },
          "execution_count": 26
        }
      ]
    },
    {
      "cell_type": "code",
      "metadata": {
        "colab": {
          "base_uri": "https://localhost:8080/"
        },
        "id": "HyNCT0xAhLmQ",
        "outputId": "81f50d80-9d36-49bc-a983-ce6d854e99ba"
      },
      "source": [
        "# percentage of refugees from syr\n",
        "\n",
        "syr_apps = syr_df['applied'].sum()\n",
        "all_apps = df_origin['applied'].sum()\n",
        "# syr_apps divided by all_apps is percentage \n"
      ],
      "execution_count": null,
      "outputs": [
        {
          "output_type": "execute_result",
          "data": {
            "text/plain": [
              "1429926"
            ]
          },
          "metadata": {
            "tags": []
          },
          "execution_count": 53
        }
      ]
    },
    {
      "cell_type": "code",
      "metadata": {
        "colab": {
          "base_uri": "https://localhost:8080/"
        },
        "id": "nRr0cqtT21pG",
        "outputId": "59308916-8b8f-4297-f2d1-9d18e800fca3"
      },
      "source": [
        "# choose country of origin or asylum \n",
        "type = input('Please enter origin or asylum to select the type of country you would like to learn more about: ')\n",
        "\n",
        "# print possible country codes \n",
        "country = input('Please enter the three digit country code of you would like to learn more about: ')"
      ],
      "execution_count": null,
      "outputs": [
        {
          "output_type": "stream",
          "text": [
            "Please enter origin or asylum to select the type of country you would like to learn more about: origin\n",
            "Please enter the three digit country code of you would like to learn more about: SYR\n"
          ],
          "name": "stdout"
        }
      ]
    },
    {
      "cell_type": "code",
      "metadata": {
        "colab": {
          "base_uri": "https://localhost:8080/"
        },
        "id": "GaYYDX327gt1",
        "outputId": "40359926-cb9a-4b4c-aa2c-8499d7145810"
      },
      "source": [
        "print('You selected ' + country + ' as the country of ' + type + '.')\n",
        "\n",
        "if type == 'origin': \n",
        "  country_df = df_joined.loc[df_joined['Country of origin (ISO)_applications'] == country]\n",
        "\n",
        "  # asylum seekers from selected country, went to n different countries \n",
        "  n = len(country_df['Country of asylum'].unique())\n",
        "  print(n)\n",
        "\n",
        "  # percentage of refugees from selected country vs all = p \n",
        "  country_apps = country_df['applied'].sum()\n",
        "  all_apps = df_origin['applied'].sum()\n",
        "  p = country_apps / all_apps\n",
        "  print(p * 100)\n",
        "\n",
        "  # top 5 countries of asylum for seekers from SYR \n",
        "  country_df.groupby(['Country of asylum_applications']).sum()  \n",
        "  country_df_top = country_df.groupby(['Country of asylum_applications','Country of asylum (ISO)_applications'])['applied','Recognized decisions','Complementary protection','Rejected decisions','Otherwise closed', 'Total decisions'].sum().reset_index()\n",
        "  country_df_top = country_df_top.sort_values('applied', ascending=False)\n",
        "  country_df_top[\"total_accepted\"] = country_df_top[\"Recognized decisions\"] + country_df_top[\"Complementary protection\"]\n",
        "  country_df_top[\"total_rejected\"] = country_df_top[\"Rejected decisions\"] + country_df_top[\"Otherwise closed\"]\n",
        "  country_df_top[\"ratio_accepted\"] = (country_df_top[\"total_accepted\"] / country_df_top[\"Total decisions\"])\n",
        "  country_df_top5 = country_df_top.head(n = 5)\n",
        "  country_df_top5.to_csv(r'country_df_top5.csv')\n",
        "  country_df_top5\n",
        "\n",
        "else: \n",
        "  country_df = df_joined.loc[df_joined['Country of asylum (ISO)_applications'] == country]\n"
      ],
      "execution_count": null,
      "outputs": [
        {
          "output_type": "stream",
          "text": [
            "You selected SYR as the country of origin.\n",
            "110\n",
            "7.72160645373946\n"
          ],
          "name": "stdout"
        },
        {
          "output_type": "stream",
          "text": [
            "/usr/local/lib/python3.7/dist-packages/ipykernel_launcher.py:18: FutureWarning: Indexing with multiple keys (implicitly converted to a tuple of keys) will be deprecated, use a list instead.\n"
          ],
          "name": "stderr"
        }
      ]
    },
    {
      "cell_type": "code",
      "metadata": {
        "id": "TlRPw-Z262K1",
        "colab": {
          "base_uri": "https://localhost:8080/",
          "height": 275
        },
        "outputId": "e45c4920-889c-4412-cc07-094222c3cc85"
      },
      "source": [
        "country_df.groupby(['Country of asylum_applications']).sum()  \n",
        "country_df_top = country_df.groupby(['Country of asylum_applications','Country of asylum (ISO)_applications'])['applied','Recognized decisions','Complementary protection','Rejected decisions','Otherwise closed', 'Total decisions'].sum().reset_index()\n",
        "country_df_top = country_df_top.sort_values('applied', ascending=False)\n",
        "country_df_top[\"total_accepted\"] = country_df_top[\"Recognized decisions\"] + country_df_top[\"Complementary protection\"]\n",
        "country_df_top[\"total_rejected\"] = country_df_top[\"Rejected decisions\"] + country_df_top[\"Otherwise closed\"]\n",
        "country_df_top[\"ratio_accepted\"] = (country_df_top[\"total_accepted\"] / country_df_top[\"Total decisions\"])\n",
        "country_df_top5 = country_df_top.head(n = 5)\n",
        "country_df_top5.to_csv(r'country_df_top5.csv')\n",
        "country_df_top5\n",
        "  "
      ],
      "execution_count": null,
      "outputs": [
        {
          "output_type": "stream",
          "text": [
            "/usr/local/lib/python3.7/dist-packages/ipykernel_launcher.py:2: FutureWarning: Indexing with multiple keys (implicitly converted to a tuple of keys) will be deprecated, use a list instead.\n",
            "  \n"
          ],
          "name": "stderr"
        },
        {
          "output_type": "execute_result",
          "data": {
            "text/html": [
              "<div>\n",
              "<style scoped>\n",
              "    .dataframe tbody tr th:only-of-type {\n",
              "        vertical-align: middle;\n",
              "    }\n",
              "\n",
              "    .dataframe tbody tr th {\n",
              "        vertical-align: top;\n",
              "    }\n",
              "\n",
              "    .dataframe thead th {\n",
              "        text-align: right;\n",
              "    }\n",
              "</style>\n",
              "<table border=\"1\" class=\"dataframe\">\n",
              "  <thead>\n",
              "    <tr style=\"text-align: right;\">\n",
              "      <th></th>\n",
              "      <th>Country of asylum_applications</th>\n",
              "      <th>Country of asylum (ISO)_applications</th>\n",
              "      <th>applied</th>\n",
              "      <th>Recognized decisions</th>\n",
              "      <th>Complementary protection</th>\n",
              "      <th>Rejected decisions</th>\n",
              "      <th>Otherwise closed</th>\n",
              "      <th>Total decisions</th>\n",
              "      <th>total_accepted</th>\n",
              "      <th>total_rejected</th>\n",
              "      <th>ratio_accepted</th>\n",
              "    </tr>\n",
              "  </thead>\n",
              "  <tbody>\n",
              "    <tr>\n",
              "      <th>40</th>\n",
              "      <td>Germany</td>\n",
              "      <td>DEU</td>\n",
              "      <td>654436</td>\n",
              "      <td>406192</td>\n",
              "      <td>230261</td>\n",
              "      <td>40682</td>\n",
              "      <td>70930</td>\n",
              "      <td>748065</td>\n",
              "      <td>636453</td>\n",
              "      <td>111612</td>\n",
              "      <td>0.850799</td>\n",
              "    </tr>\n",
              "    <tr>\n",
              "      <th>95</th>\n",
              "      <td>Sweden</td>\n",
              "      <td>SWE</td>\n",
              "      <td>135188</td>\n",
              "      <td>11229</td>\n",
              "      <td>97468</td>\n",
              "      <td>8751</td>\n",
              "      <td>15693</td>\n",
              "      <td>133141</td>\n",
              "      <td>108697</td>\n",
              "      <td>24444</td>\n",
              "      <td>0.816405</td>\n",
              "    </tr>\n",
              "    <tr>\n",
              "      <th>42</th>\n",
              "      <td>Greece</td>\n",
              "      <td>GRC</td>\n",
              "      <td>78976</td>\n",
              "      <td>22628</td>\n",
              "      <td>317</td>\n",
              "      <td>4032</td>\n",
              "      <td>7867</td>\n",
              "      <td>34844</td>\n",
              "      <td>22945</td>\n",
              "      <td>11899</td>\n",
              "      <td>0.658506</td>\n",
              "    </tr>\n",
              "    <tr>\n",
              "      <th>43</th>\n",
              "      <td>Hungary</td>\n",
              "      <td>HUN</td>\n",
              "      <td>78419</td>\n",
              "      <td>222</td>\n",
              "      <td>808</td>\n",
              "      <td>1285</td>\n",
              "      <td>70567</td>\n",
              "      <td>72882</td>\n",
              "      <td>1030</td>\n",
              "      <td>71852</td>\n",
              "      <td>0.014132</td>\n",
              "    </tr>\n",
              "    <tr>\n",
              "      <th>6</th>\n",
              "      <td>Austria</td>\n",
              "      <td>AUT</td>\n",
              "      <td>50676</td>\n",
              "      <td>45063</td>\n",
              "      <td>3227</td>\n",
              "      <td>1634</td>\n",
              "      <td>3271</td>\n",
              "      <td>53195</td>\n",
              "      <td>48290</td>\n",
              "      <td>4905</td>\n",
              "      <td>0.907792</td>\n",
              "    </tr>\n",
              "  </tbody>\n",
              "</table>\n",
              "</div>"
            ],
            "text/plain": [
              "   Country of asylum_applications  ... ratio_accepted\n",
              "40                        Germany  ...       0.850799\n",
              "95                         Sweden  ...       0.816405\n",
              "42                         Greece  ...       0.658506\n",
              "43                        Hungary  ...       0.014132\n",
              "6                         Austria  ...       0.907792\n",
              "\n",
              "[5 rows x 11 columns]"
            ]
          },
          "metadata": {
            "tags": []
          },
          "execution_count": 59
        }
      ]
    },
    {
      "cell_type": "code",
      "metadata": {
        "colab": {
          "base_uri": "https://localhost:8080/",
          "height": 830
        },
        "id": "lsaIJihCSkKu",
        "outputId": "9047feeb-c422-4135-e93e-bd4a24094e0e"
      },
      "source": [
        "country_df\n"
      ],
      "execution_count": null,
      "outputs": [
        {
          "output_type": "execute_result",
          "data": {
            "text/html": [
              "<div>\n",
              "<style scoped>\n",
              "    .dataframe tbody tr th:only-of-type {\n",
              "        vertical-align: middle;\n",
              "    }\n",
              "\n",
              "    .dataframe tbody tr th {\n",
              "        vertical-align: top;\n",
              "    }\n",
              "\n",
              "    .dataframe thead th {\n",
              "        text-align: right;\n",
              "    }\n",
              "</style>\n",
              "<table border=\"1\" class=\"dataframe\">\n",
              "  <thead>\n",
              "    <tr style=\"text-align: right;\">\n",
              "      <th></th>\n",
              "      <th>id</th>\n",
              "      <th>Year_applications</th>\n",
              "      <th>Country of origin_applications</th>\n",
              "      <th>Country of origin (ISO)_applications</th>\n",
              "      <th>Country of asylum_applications</th>\n",
              "      <th>Country of asylum (ISO)_applications</th>\n",
              "      <th>applied</th>\n",
              "      <th>Year_decisions</th>\n",
              "      <th>Country of origin_decisions</th>\n",
              "      <th>Country of origin (ISO)_decisions</th>\n",
              "      <th>Country of asylum_decisions</th>\n",
              "      <th>Country of asylum (ISO)_decisions</th>\n",
              "      <th>Recognized decisions</th>\n",
              "      <th>Complementary protection</th>\n",
              "      <th>Rejected decisions</th>\n",
              "      <th>Otherwise closed</th>\n",
              "      <th>Total decisions</th>\n",
              "      <th>Year</th>\n",
              "      <th>Country of origin</th>\n",
              "      <th>Country of origin (ISO)</th>\n",
              "      <th>Country of asylum</th>\n",
              "      <th>Country of asylum (ISO)</th>\n",
              "      <th>Female 0 - 4</th>\n",
              "      <th>Female 5 - 11</th>\n",
              "      <th>Female 12 - 17</th>\n",
              "      <th>Female 5 - 17</th>\n",
              "      <th>Female 18 - 59</th>\n",
              "      <th>Female 60</th>\n",
              "      <th>f_other</th>\n",
              "      <th>Female total</th>\n",
              "      <th>f_unknown</th>\n",
              "      <th>Male 0 - 4</th>\n",
              "      <th>Male 5 - 11</th>\n",
              "      <th>Male 12 - 17</th>\n",
              "      <th>Male 5 - 17</th>\n",
              "      <th>Male 18 - 59</th>\n",
              "      <th>Male 60</th>\n",
              "      <th>Male total</th>\n",
              "      <th>m_other</th>\n",
              "      <th>m_unknown</th>\n",
              "      <th>Total</th>\n",
              "    </tr>\n",
              "  </thead>\n",
              "  <tbody>\n",
              "    <tr>\n",
              "      <th>1823</th>\n",
              "      <td>2006-SYR-ARE</td>\n",
              "      <td>2006</td>\n",
              "      <td>Syrian Arab Rep.</td>\n",
              "      <td>SYR</td>\n",
              "      <td>United Arab Emirates</td>\n",
              "      <td>ARE</td>\n",
              "      <td>24</td>\n",
              "      <td>2006</td>\n",
              "      <td>Syrian Arab Rep.</td>\n",
              "      <td>SYR</td>\n",
              "      <td>United Arab Emirates</td>\n",
              "      <td>ARE</td>\n",
              "      <td>69</td>\n",
              "      <td>0</td>\n",
              "      <td>0</td>\n",
              "      <td>0</td>\n",
              "      <td>69</td>\n",
              "      <td>2006</td>\n",
              "      <td>Syrian Arab Rep.</td>\n",
              "      <td>SYR</td>\n",
              "      <td>United Arab Emirates</td>\n",
              "      <td>ARE</td>\n",
              "      <td>6</td>\n",
              "      <td>0</td>\n",
              "      <td>0</td>\n",
              "      <td>UNK</td>\n",
              "      <td>22</td>\n",
              "      <td>0</td>\n",
              "      <td>UNK</td>\n",
              "      <td>34</td>\n",
              "      <td>UNK</td>\n",
              "      <td>9</td>\n",
              "      <td>0</td>\n",
              "      <td>0</td>\n",
              "      <td>UNK</td>\n",
              "      <td>26</td>\n",
              "      <td>0</td>\n",
              "      <td>47</td>\n",
              "      <td>UNK</td>\n",
              "      <td>UNK</td>\n",
              "      <td>81</td>\n",
              "    </tr>\n",
              "    <tr>\n",
              "      <th>1824</th>\n",
              "      <td>2006-SYR-AUS</td>\n",
              "      <td>2006</td>\n",
              "      <td>Syrian Arab Rep.</td>\n",
              "      <td>SYR</td>\n",
              "      <td>Australia</td>\n",
              "      <td>AUS</td>\n",
              "      <td>15</td>\n",
              "      <td>2006</td>\n",
              "      <td>Syrian Arab Rep.</td>\n",
              "      <td>SYR</td>\n",
              "      <td>Australia</td>\n",
              "      <td>AUS</td>\n",
              "      <td>0</td>\n",
              "      <td>0</td>\n",
              "      <td>10</td>\n",
              "      <td>0</td>\n",
              "      <td>10</td>\n",
              "      <td>2006</td>\n",
              "      <td>Syrian Arab Rep.</td>\n",
              "      <td>SYR</td>\n",
              "      <td>Australia</td>\n",
              "      <td>AUS</td>\n",
              "      <td>0</td>\n",
              "      <td>0</td>\n",
              "      <td>0</td>\n",
              "      <td>UNK</td>\n",
              "      <td>0</td>\n",
              "      <td>0</td>\n",
              "      <td>UNK</td>\n",
              "      <td>0</td>\n",
              "      <td>UNK</td>\n",
              "      <td>0</td>\n",
              "      <td>0</td>\n",
              "      <td>0</td>\n",
              "      <td>UNK</td>\n",
              "      <td>0</td>\n",
              "      <td>0</td>\n",
              "      <td>0</td>\n",
              "      <td>UNK</td>\n",
              "      <td>UNK</td>\n",
              "      <td>132</td>\n",
              "    </tr>\n",
              "    <tr>\n",
              "      <th>1825</th>\n",
              "      <td>2006-SYR-AUT</td>\n",
              "      <td>2006</td>\n",
              "      <td>Syrian Arab Rep.</td>\n",
              "      <td>SYR</td>\n",
              "      <td>Austria</td>\n",
              "      <td>AUT</td>\n",
              "      <td>88</td>\n",
              "      <td>2006</td>\n",
              "      <td>Syrian Arab Rep.</td>\n",
              "      <td>SYR</td>\n",
              "      <td>Austria</td>\n",
              "      <td>AUT</td>\n",
              "      <td>47</td>\n",
              "      <td>0</td>\n",
              "      <td>20</td>\n",
              "      <td>22</td>\n",
              "      <td>89</td>\n",
              "      <td>2006</td>\n",
              "      <td>Syrian Arab Rep.</td>\n",
              "      <td>SYR</td>\n",
              "      <td>Austria</td>\n",
              "      <td>AUT</td>\n",
              "      <td>0</td>\n",
              "      <td>0</td>\n",
              "      <td>0</td>\n",
              "      <td>UNK</td>\n",
              "      <td>0</td>\n",
              "      <td>0</td>\n",
              "      <td>UNK</td>\n",
              "      <td>0</td>\n",
              "      <td>UNK</td>\n",
              "      <td>0</td>\n",
              "      <td>0</td>\n",
              "      <td>0</td>\n",
              "      <td>UNK</td>\n",
              "      <td>0</td>\n",
              "      <td>0</td>\n",
              "      <td>0</td>\n",
              "      <td>UNK</td>\n",
              "      <td>UNK</td>\n",
              "      <td>457</td>\n",
              "    </tr>\n",
              "    <tr>\n",
              "      <th>1826</th>\n",
              "      <td>2006-SYR-BEL</td>\n",
              "      <td>2006</td>\n",
              "      <td>Syrian Arab Rep.</td>\n",
              "      <td>SYR</td>\n",
              "      <td>Belgium</td>\n",
              "      <td>BEL</td>\n",
              "      <td>221</td>\n",
              "      <td>2006</td>\n",
              "      <td>Syrian Arab Rep.</td>\n",
              "      <td>SYR</td>\n",
              "      <td>Belgium</td>\n",
              "      <td>BEL</td>\n",
              "      <td>10</td>\n",
              "      <td>0</td>\n",
              "      <td>124</td>\n",
              "      <td>114</td>\n",
              "      <td>248</td>\n",
              "      <td>2006</td>\n",
              "      <td>Syrian Arab Rep.</td>\n",
              "      <td>SYR</td>\n",
              "      <td>Belgium</td>\n",
              "      <td>BEL</td>\n",
              "      <td>0</td>\n",
              "      <td>0</td>\n",
              "      <td>0</td>\n",
              "      <td>UNK</td>\n",
              "      <td>0</td>\n",
              "      <td>0</td>\n",
              "      <td>UNK</td>\n",
              "      <td>28</td>\n",
              "      <td>UNK</td>\n",
              "      <td>0</td>\n",
              "      <td>0</td>\n",
              "      <td>0</td>\n",
              "      <td>UNK</td>\n",
              "      <td>0</td>\n",
              "      <td>0</td>\n",
              "      <td>72</td>\n",
              "      <td>UNK</td>\n",
              "      <td>UNK</td>\n",
              "      <td>253</td>\n",
              "    </tr>\n",
              "    <tr>\n",
              "      <th>1827</th>\n",
              "      <td>2006-SYR-BGR</td>\n",
              "      <td>2006</td>\n",
              "      <td>Syrian Arab Rep.</td>\n",
              "      <td>SYR</td>\n",
              "      <td>Bulgaria</td>\n",
              "      <td>BGR</td>\n",
              "      <td>10</td>\n",
              "      <td>2006</td>\n",
              "      <td>Syrian Arab Rep.</td>\n",
              "      <td>SYR</td>\n",
              "      <td>Bulgaria</td>\n",
              "      <td>BGR</td>\n",
              "      <td>0</td>\n",
              "      <td>0</td>\n",
              "      <td>5</td>\n",
              "      <td>5</td>\n",
              "      <td>10</td>\n",
              "      <td>2006</td>\n",
              "      <td>Syrian Arab Rep.</td>\n",
              "      <td>SYR</td>\n",
              "      <td>Bulgaria</td>\n",
              "      <td>BGR</td>\n",
              "      <td>0</td>\n",
              "      <td>0</td>\n",
              "      <td>0</td>\n",
              "      <td>UNK</td>\n",
              "      <td>0</td>\n",
              "      <td>0</td>\n",
              "      <td>UNK</td>\n",
              "      <td>0</td>\n",
              "      <td>UNK</td>\n",
              "      <td>0</td>\n",
              "      <td>0</td>\n",
              "      <td>0</td>\n",
              "      <td>UNK</td>\n",
              "      <td>0</td>\n",
              "      <td>0</td>\n",
              "      <td>0</td>\n",
              "      <td>UNK</td>\n",
              "      <td>UNK</td>\n",
              "      <td>79</td>\n",
              "    </tr>\n",
              "    <tr>\n",
              "      <th>...</th>\n",
              "      <td>...</td>\n",
              "      <td>...</td>\n",
              "      <td>...</td>\n",
              "      <td>...</td>\n",
              "      <td>...</td>\n",
              "      <td>...</td>\n",
              "      <td>...</td>\n",
              "      <td>...</td>\n",
              "      <td>...</td>\n",
              "      <td>...</td>\n",
              "      <td>...</td>\n",
              "      <td>...</td>\n",
              "      <td>...</td>\n",
              "      <td>...</td>\n",
              "      <td>...</td>\n",
              "      <td>...</td>\n",
              "      <td>...</td>\n",
              "      <td>...</td>\n",
              "      <td>...</td>\n",
              "      <td>...</td>\n",
              "      <td>...</td>\n",
              "      <td>...</td>\n",
              "      <td>...</td>\n",
              "      <td>...</td>\n",
              "      <td>...</td>\n",
              "      <td>...</td>\n",
              "      <td>...</td>\n",
              "      <td>...</td>\n",
              "      <td>...</td>\n",
              "      <td>...</td>\n",
              "      <td>...</td>\n",
              "      <td>...</td>\n",
              "      <td>...</td>\n",
              "      <td>...</td>\n",
              "      <td>...</td>\n",
              "      <td>...</td>\n",
              "      <td>...</td>\n",
              "      <td>...</td>\n",
              "      <td>...</td>\n",
              "      <td>...</td>\n",
              "      <td>...</td>\n",
              "    </tr>\n",
              "    <tr>\n",
              "      <th>34270</th>\n",
              "      <td>2019-SYR-TTO</td>\n",
              "      <td>2019</td>\n",
              "      <td>Syrian Arab Rep.</td>\n",
              "      <td>SYR</td>\n",
              "      <td>Trinidad and Tobago</td>\n",
              "      <td>TTO</td>\n",
              "      <td>10</td>\n",
              "      <td>2019</td>\n",
              "      <td>Syrian Arab Rep.</td>\n",
              "      <td>SYR</td>\n",
              "      <td>Trinidad and Tobago</td>\n",
              "      <td>TTO</td>\n",
              "      <td>5</td>\n",
              "      <td>0</td>\n",
              "      <td>0</td>\n",
              "      <td>0</td>\n",
              "      <td>5</td>\n",
              "      <td>2019</td>\n",
              "      <td>Syrian Arab Rep.</td>\n",
              "      <td>SYR</td>\n",
              "      <td>Trinidad and Tobago</td>\n",
              "      <td>TTO</td>\n",
              "      <td>0</td>\n",
              "      <td>0</td>\n",
              "      <td>0</td>\n",
              "      <td>UNK</td>\n",
              "      <td>0</td>\n",
              "      <td>0</td>\n",
              "      <td>UNK</td>\n",
              "      <td>0</td>\n",
              "      <td>UNK</td>\n",
              "      <td>0</td>\n",
              "      <td>0</td>\n",
              "      <td>0</td>\n",
              "      <td>UNK</td>\n",
              "      <td>0</td>\n",
              "      <td>0</td>\n",
              "      <td>0</td>\n",
              "      <td>UNK</td>\n",
              "      <td>UNK</td>\n",
              "      <td>96</td>\n",
              "    </tr>\n",
              "    <tr>\n",
              "      <th>34271</th>\n",
              "      <td>2019-SYR-UKR</td>\n",
              "      <td>2019</td>\n",
              "      <td>Syrian Arab Rep.</td>\n",
              "      <td>SYR</td>\n",
              "      <td>Ukraine</td>\n",
              "      <td>UKR</td>\n",
              "      <td>78</td>\n",
              "      <td>2019</td>\n",
              "      <td>Syrian Arab Rep.</td>\n",
              "      <td>SYR</td>\n",
              "      <td>Ukraine</td>\n",
              "      <td>UKR</td>\n",
              "      <td>0</td>\n",
              "      <td>20</td>\n",
              "      <td>73</td>\n",
              "      <td>314</td>\n",
              "      <td>407</td>\n",
              "      <td>2019</td>\n",
              "      <td>Syrian Arab Rep.</td>\n",
              "      <td>SYR</td>\n",
              "      <td>Ukraine</td>\n",
              "      <td>UKR</td>\n",
              "      <td>0</td>\n",
              "      <td>0</td>\n",
              "      <td>8</td>\n",
              "      <td>UNK</td>\n",
              "      <td>20</td>\n",
              "      <td>0</td>\n",
              "      <td>UNK</td>\n",
              "      <td>99</td>\n",
              "      <td>UNK</td>\n",
              "      <td>0</td>\n",
              "      <td>0</td>\n",
              "      <td>5</td>\n",
              "      <td>UNK</td>\n",
              "      <td>128</td>\n",
              "      <td>0</td>\n",
              "      <td>524</td>\n",
              "      <td>UNK</td>\n",
              "      <td>UNK</td>\n",
              "      <td>623</td>\n",
              "    </tr>\n",
              "    <tr>\n",
              "      <th>34272</th>\n",
              "      <td>2019-SYR-URY</td>\n",
              "      <td>2019</td>\n",
              "      <td>Syrian Arab Rep.</td>\n",
              "      <td>SYR</td>\n",
              "      <td>Uruguay</td>\n",
              "      <td>URY</td>\n",
              "      <td>10</td>\n",
              "      <td>2019</td>\n",
              "      <td>Syrian Arab Rep.</td>\n",
              "      <td>SYR</td>\n",
              "      <td>Uruguay</td>\n",
              "      <td>URY</td>\n",
              "      <td>0</td>\n",
              "      <td>0</td>\n",
              "      <td>0</td>\n",
              "      <td>5</td>\n",
              "      <td>5</td>\n",
              "      <td>2019</td>\n",
              "      <td>Syrian Arab Rep.</td>\n",
              "      <td>SYR</td>\n",
              "      <td>Uruguay</td>\n",
              "      <td>URY</td>\n",
              "      <td>0</td>\n",
              "      <td>5</td>\n",
              "      <td>6</td>\n",
              "      <td>UNK</td>\n",
              "      <td>17</td>\n",
              "      <td>0</td>\n",
              "      <td>UNK</td>\n",
              "      <td>28</td>\n",
              "      <td>UNK</td>\n",
              "      <td>0</td>\n",
              "      <td>8</td>\n",
              "      <td>9</td>\n",
              "      <td>UNK</td>\n",
              "      <td>23</td>\n",
              "      <td>0</td>\n",
              "      <td>40</td>\n",
              "      <td>UNK</td>\n",
              "      <td>UNK</td>\n",
              "      <td>68</td>\n",
              "    </tr>\n",
              "    <tr>\n",
              "      <th>34273</th>\n",
              "      <td>2019-SYR-USA</td>\n",
              "      <td>2019</td>\n",
              "      <td>Syrian Arab Rep.</td>\n",
              "      <td>SYR</td>\n",
              "      <td>United States of America</td>\n",
              "      <td>USA</td>\n",
              "      <td>376</td>\n",
              "      <td>2019</td>\n",
              "      <td>Syrian Arab Rep.</td>\n",
              "      <td>SYR</td>\n",
              "      <td>United States of America</td>\n",
              "      <td>USA</td>\n",
              "      <td>473</td>\n",
              "      <td>0</td>\n",
              "      <td>225</td>\n",
              "      <td>147</td>\n",
              "      <td>845</td>\n",
              "      <td>2019</td>\n",
              "      <td>Syrian Arab Rep.</td>\n",
              "      <td>SYR</td>\n",
              "      <td>United States of America</td>\n",
              "      <td>USA</td>\n",
              "      <td>0</td>\n",
              "      <td>0</td>\n",
              "      <td>0</td>\n",
              "      <td>UNK</td>\n",
              "      <td>0</td>\n",
              "      <td>0</td>\n",
              "      <td>UNK</td>\n",
              "      <td>0</td>\n",
              "      <td>UNK</td>\n",
              "      <td>0</td>\n",
              "      <td>0</td>\n",
              "      <td>0</td>\n",
              "      <td>UNK</td>\n",
              "      <td>0</td>\n",
              "      <td>0</td>\n",
              "      <td>0</td>\n",
              "      <td>UNK</td>\n",
              "      <td>UNK</td>\n",
              "      <td>11109</td>\n",
              "    </tr>\n",
              "    <tr>\n",
              "      <th>34274</th>\n",
              "      <td>2019-SYR-ZMB</td>\n",
              "      <td>2019</td>\n",
              "      <td>Syrian Arab Rep.</td>\n",
              "      <td>SYR</td>\n",
              "      <td>Zambia</td>\n",
              "      <td>ZMB</td>\n",
              "      <td>5</td>\n",
              "      <td>2019</td>\n",
              "      <td>Syrian Arab Rep.</td>\n",
              "      <td>SYR</td>\n",
              "      <td>Zambia</td>\n",
              "      <td>ZMB</td>\n",
              "      <td>0</td>\n",
              "      <td>0</td>\n",
              "      <td>0</td>\n",
              "      <td>5</td>\n",
              "      <td>5</td>\n",
              "      <td>2019</td>\n",
              "      <td>Syrian Arab Rep.</td>\n",
              "      <td>SYR</td>\n",
              "      <td>Zambia</td>\n",
              "      <td>ZMB</td>\n",
              "      <td>0</td>\n",
              "      <td>6</td>\n",
              "      <td>0</td>\n",
              "      <td>UNK</td>\n",
              "      <td>0</td>\n",
              "      <td>0</td>\n",
              "      <td>UNK</td>\n",
              "      <td>6</td>\n",
              "      <td>UNK</td>\n",
              "      <td>0</td>\n",
              "      <td>0</td>\n",
              "      <td>0</td>\n",
              "      <td>UNK</td>\n",
              "      <td>15</td>\n",
              "      <td>0</td>\n",
              "      <td>15</td>\n",
              "      <td>UNK</td>\n",
              "      <td>UNK</td>\n",
              "      <td>21</td>\n",
              "    </tr>\n",
              "  </tbody>\n",
              "</table>\n",
              "<p>831 rows × 41 columns</p>\n",
              "</div>"
            ],
            "text/plain": [
              "                 id  Year_applications  ... m_unknown  Total\n",
              "1823   2006-SYR-ARE               2006  ...       UNK     81\n",
              "1824   2006-SYR-AUS               2006  ...       UNK    132\n",
              "1825   2006-SYR-AUT               2006  ...       UNK    457\n",
              "1826   2006-SYR-BEL               2006  ...       UNK    253\n",
              "1827   2006-SYR-BGR               2006  ...       UNK     79\n",
              "...             ...                ...  ...       ...    ...\n",
              "34270  2019-SYR-TTO               2019  ...       UNK     96\n",
              "34271  2019-SYR-UKR               2019  ...       UNK    623\n",
              "34272  2019-SYR-URY               2019  ...       UNK     68\n",
              "34273  2019-SYR-USA               2019  ...       UNK  11109\n",
              "34274  2019-SYR-ZMB               2019  ...       UNK     21\n",
              "\n",
              "[831 rows x 41 columns]"
            ]
          },
          "metadata": {
            "tags": []
          },
          "execution_count": 63
        }
      ]
    }
  ]
}